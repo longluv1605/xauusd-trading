{
 "cells": [
  {
   "cell_type": "markdown",
   "id": "64a16c60",
   "metadata": {},
   "source": [
    "# 1 - Import requirements"
   ]
  },
  {
   "cell_type": "code",
   "execution_count": 2,
   "id": "3215f98a",
   "metadata": {
    "execution": {
     "iopub.execute_input": "2025-04-14T07:31:08.768226Z",
     "iopub.status.busy": "2025-04-14T07:31:08.767934Z",
     "iopub.status.idle": "2025-04-14T07:31:08.772637Z",
     "shell.execute_reply": "2025-04-14T07:31:08.771704Z",
     "shell.execute_reply.started": "2025-04-14T07:31:08.768204Z"
    },
    "trusted": true
   },
   "outputs": [],
   "source": [
    "import os\n",
    "import pandas as pd\n",
    "import numpy as np\n",
    "from sklearn.metrics import classification_report\n",
    "\n",
    "import torch\n",
    "import torch.nn as nn\n",
    "\n",
    "from torch.utils.data import Dataset, DataLoader, Subset\n",
    "\n",
    "from tqdm import tqdm"
   ]
  },
  {
   "cell_type": "markdown",
   "id": "65be178d",
   "metadata": {},
   "source": [
    "# 2 - Prepare data"
   ]
  },
  {
   "cell_type": "code",
   "execution_count": 3,
   "id": "5e540e20-ab23-474d-9626-aa733e13b49b",
   "metadata": {
    "execution": {
     "iopub.execute_input": "2025-04-14T07:31:11.375584Z",
     "iopub.status.busy": "2025-04-14T07:31:11.375285Z",
     "iopub.status.idle": "2025-04-14T07:31:11.380147Z",
     "shell.execute_reply": "2025-04-14T07:31:11.378956Z",
     "shell.execute_reply.started": "2025-04-14T07:31:11.375560Z"
    },
    "trusted": true
   },
   "outputs": [],
   "source": [
    "label_mapping = {\n",
    "    'BUY': 0,\n",
    "    'SELL': 1,\n",
    "    'HOLD': 2\n",
    "}\n",
    "\n",
    "def map_label(x):\n",
    "    return label_mapping[x] if x in label_mapping else x"
   ]
  },
  {
   "cell_type": "code",
   "execution_count": 11,
   "id": "6cbb91cd",
   "metadata": {
    "execution": {
     "iopub.execute_input": "2025-04-14T07:33:54.771824Z",
     "iopub.status.busy": "2025-04-14T07:33:54.771499Z",
     "iopub.status.idle": "2025-04-14T07:33:54.779781Z",
     "shell.execute_reply": "2025-04-14T07:33:54.778862Z",
     "shell.execute_reply.started": "2025-04-14T07:33:54.771796Z"
    },
    "trusted": true
   },
   "outputs": [],
   "source": [
    "def load_shape(shape_path):\n",
    "    with open(shape_path, 'r') as f:\n",
    "        shape = f.readlines()\n",
    "        n_samples = int(shape[0])\n",
    "        seq_len = int(shape[1])\n",
    "        n_features = int(shape[2])\n",
    "    return n_samples, seq_len, n_features\n",
    "\n",
    "class TradingDataset(Dataset):\n",
    "    def __init__(self, save_path, n_samples, sequence_length, n_features):\n",
    "        self.save_path = save_path\n",
    "        self.n_samples = n_samples\n",
    "        self.sequences = np.memmap(f'{save_path}/sequences.dat', dtype=np.float32, mode='r', \n",
    "                                 shape=(n_samples, sequence_length, n_features))\n",
    "        self.labels = np.memmap(f'{save_path}/labels.dat', dtype=np.int64, mode='r', \n",
    "                              shape=(n_samples,))\n",
    "    \n",
    "    def __len__(self):\n",
    "        return self.n_samples\n",
    "    \n",
    "    def __getitem__(self, idx):\n",
    "        seq = self.sequences[idx].copy()  # Tạo bản sao writable\n",
    "        lbl = self.labels[idx].copy()\n",
    "        return torch.from_numpy(seq).float(), torch.from_numpy(np.array([lbl])).long()[0]\n",
    "\n",
    "def prepare_transformer_input(train_shape_path, val_shape_path, test_shape_path, data_path, batch_size=32):    \n",
    "    n_train_samples, sequence_length, n_features = load_shape(train_shape_path)\n",
    "    n_val_samples, _, _ = load_shape(val_shape_path)\n",
    "    n_test_samples, _, _ = load_shape(test_shape_path)\n",
    "    \n",
    "    train_path = f'{data_path}/train'\n",
    "    val_path = f'{data_path}/val'\n",
    "    test_path = f'{data_path}/test'\n",
    "    \n",
    "    # Tạo datasets\n",
    "    train_dataset = TradingDataset(train_path, n_train_samples, sequence_length, n_features)\n",
    "    val_dataset = TradingDataset(val_path, n_val_samples, sequence_length, n_features)\n",
    "    test_dataset = TradingDataset(test_path, n_test_samples, sequence_length, n_features)\n",
    "    \n",
    "    # Tạo dataloaders\n",
    "    train_loader = DataLoader(train_dataset, batch_size=batch_size, shuffle=False)\n",
    "    val_loader = DataLoader(val_dataset, batch_size=batch_size, shuffle=False)\n",
    "    test_loader = DataLoader(test_dataset, batch_size=batch_size, shuffle=False)\n",
    "    \n",
    "    return train_loader, val_loader, test_loader"
   ]
  },
  {
   "cell_type": "code",
   "execution_count": 12,
   "id": "fd11f2df-64e5-4a69-b2e8-f44d117fee49",
   "metadata": {
    "execution": {
     "iopub.execute_input": "2025-04-14T07:33:56.114665Z",
     "iopub.status.busy": "2025-04-14T07:33:56.114304Z",
     "iopub.status.idle": "2025-04-14T07:33:56.132661Z",
     "shell.execute_reply": "2025-04-14T07:33:56.132041Z",
     "shell.execute_reply.started": "2025-04-14T07:33:56.114635Z"
    },
    "trusted": true
   },
   "outputs": [],
   "source": [
    "train_shape_path = '/kaggle/input/processed-xauusd/train/shape.txt'\n",
    "val_shape_path = '/kaggle/input/processed-xauusd/val/shape.txt'\n",
    "test_shape_path = '/kaggle/input/processed-xauusd/test/shape.txt'\n",
    "\n",
    "\n",
    "train_loader, val_loader, test_loader = prepare_transformer_input(\n",
    "    train_shape_path, val_shape_path, test_shape_path,\n",
    "    data_path='/kaggle/input/processed-xauusd',\n",
    "    batch_size=64\n",
    ")"
   ]
  },
  {
   "cell_type": "code",
   "execution_count": 13,
   "id": "4cd830e6",
   "metadata": {
    "execution": {
     "iopub.execute_input": "2025-04-14T07:33:57.161656Z",
     "iopub.status.busy": "2025-04-14T07:33:57.161242Z",
     "iopub.status.idle": "2025-04-14T07:33:57.292519Z",
     "shell.execute_reply": "2025-04-14T07:33:57.291692Z",
     "shell.execute_reply.started": "2025-04-14T07:33:57.161618Z"
    },
    "trusted": true
   },
   "outputs": [
    {
     "name": "stdout",
     "output_type": "stream",
     "text": [
      "Batch input shape: torch.Size([64, 128, 27])\n",
      "Batch labels shape: torch.Size([64])\n",
      "\n",
      "Example input shape for Transformer: torch.Size([128, 27])\n",
      "tensor([[-0.7127, -0.7133, -0.7126,  ..., -0.6439,  0.8317,  0.8950],\n",
      "        [-0.7129, -0.7134, -0.7127,  ..., -0.6439,  0.8317,  0.8950],\n",
      "        [-0.7132, -0.7137, -0.7134,  ..., -0.6439,  0.8317,  0.8950],\n",
      "        ...,\n",
      "        [-0.7067, -0.7072, -0.7065,  ..., -1.1719,  0.8317,  0.8950],\n",
      "        [-0.7070, -0.7071, -0.7064,  ..., -1.1719,  0.8317,  0.8950],\n",
      "        [-0.7065, -0.7067, -0.7068,  ..., -1.1719,  0.8317,  0.8950]])\n",
      "Number of batches: 1642\n"
     ]
    }
   ],
   "source": [
    "# Kiểm tra\n",
    "sample_batch = next(iter(train_loader))\n",
    "print(\"Batch input shape:\", sample_batch[0].shape)\n",
    "print(\"Batch labels shape:\", sample_batch[1].shape)\n",
    "print(\"\\nExample input shape for Transformer:\", sample_batch[0][0].shape)\n",
    "print(sample_batch[0][0])\n",
    "print(\"Number of batches:\", len(train_loader))"
   ]
  },
  {
   "cell_type": "markdown",
   "id": "d4d43dc8-a2af-42b7-a6f7-b2a893f5f70d",
   "metadata": {},
   "source": [
    "# 3 - Build model"
   ]
  },
  {
   "cell_type": "code",
   "execution_count": null,
   "id": "c95237f8-ac3c-47f5-b7da-e3b9fd3ba6b4",
   "metadata": {
    "execution": {
     "iopub.execute_input": "2025-04-14T08:12:59.741304Z",
     "iopub.status.busy": "2025-04-14T08:12:59.741006Z",
     "iopub.status.idle": "2025-04-14T08:12:59.749461Z",
     "shell.execute_reply": "2025-04-14T08:12:59.748556Z",
     "shell.execute_reply.started": "2025-04-14T08:12:59.741280Z"
    },
    "trusted": true
   },
   "outputs": [],
   "source": [
    "from torch.nn import TransformerEncoder, TransformerEncoderLayer\n",
    "class TradingTransformer(nn.Module):\n",
    "    def __init__(self, \n",
    "                 num_features, \n",
    "                 num_classes=3, \n",
    "                 d_model=512,\n",
    "                 nhead=8,\n",
    "                 num_layers=6,\n",
    "                 dropout=0.1):\n",
    "        super().__init__()\n",
    "        \n",
    "        # 1. Feature Projection\n",
    "        self.input_proj = nn.Linear(num_features, d_model)\n",
    "        \n",
    "        # 2. Positional Encoding (Learnable)\n",
    "        self.pos_encoder = LearnablePositionalEncoding(d_model, dropout)\n",
    "        \n",
    "        # 3. Transformer Encoder\n",
    "        encoder_layers = TransformerEncoderLayer(\n",
    "            d_model=d_model,\n",
    "            nhead=nhead,\n",
    "            dim_feedforward=d_model*4,\n",
    "            dropout=dropout,\n",
    "            batch_first=True \n",
    "        )\n",
    "        self.transformer_encoder = TransformerEncoder(encoder_layers, num_layers)\n",
    "        \n",
    "        # 4. Classification Head\n",
    "        self.classifier = nn.Sequential(\n",
    "            nn.Linear(d_model, d_model//2),\n",
    "            nn.ReLU(),\n",
    "            nn.Dropout(dropout),\n",
    "            nn.Linear(d_model//2, num_classes)\n",
    "        )\n",
    "        \n",
    "    #     # 5. Initialize weights\n",
    "    #     self.init_weights()\n",
    "\n",
    "    # def init_weights(self):\n",
    "    #     for p in self.parameters():\n",
    "    #         if p.dim() > 1:\n",
    "    #             nn.init.xavier_uniform_(p)\n",
    "\n",
    "    def forward(self, src):\n",
    "        \"\"\"\n",
    "        Args:\n",
    "            src: Tensor shape [batch_size, seq_len, num_features]\n",
    "        Returns:\n",
    "            output: Tensor shape [batch_size, num_classes]\n",
    "        \"\"\"\n",
    "        # Project input features\n",
    "        x = self.input_proj(src)  # [B, S, D]\n",
    "        \n",
    "        # Add positional encoding\n",
    "        x = self.pos_encoder(x)\n",
    "        \n",
    "        # Transformer processing\n",
    "        memory = self.transformer_encoder(x)  # [B, S, D]\n",
    "        \n",
    "        # Get last time step output\n",
    "        last_output = memory[:, -1, :]  # [B, D]\n",
    "        \n",
    "        # Classification\n",
    "        return self.classifier(last_output)\n",
    "\n",
    "class LearnablePositionalEncoding(nn.Module):\n",
    "    def __init__(self, d_model, dropout=0.1, max_len=5000):\n",
    "        super().__init__()\n",
    "        self.dropout = nn.Dropout(p=dropout)\n",
    "        self.position_emb = nn.Parameter(torch.zeros(max_len, d_model))\n",
    "        nn.init.normal_(self.position_emb, mean=0, std=0.02)\n",
    "\n",
    "    def forward(self, x):\n",
    "        \"\"\"\n",
    "        Args:\n",
    "            x: Tensor shape [B, S, D]\n",
    "        \"\"\"\n",
    "        positions = self.position_emb[:x.size(1), :]  # [S, D]\n",
    "        x = x + positions.unsqueeze(0)  # [B, S, D]\n",
    "        return self.dropout(x)"
   ]
  },
  {
   "cell_type": "code",
   "execution_count": 31,
   "id": "652895ef",
   "metadata": {
    "execution": {
     "iopub.execute_input": "2025-04-14T08:13:02.797876Z",
     "iopub.status.busy": "2025-04-14T08:13:02.797596Z",
     "iopub.status.idle": "2025-04-14T08:13:05.767502Z",
     "shell.execute_reply": "2025-04-14T08:13:05.766591Z",
     "shell.execute_reply.started": "2025-04-14T08:13:02.797854Z"
    },
    "trusted": true
   },
   "outputs": [
    {
     "data": {
      "text/plain": [
       "(torch.Size([64, 3]), torch.Size([64]))"
      ]
     },
     "execution_count": 31,
     "metadata": {},
     "output_type": "execute_result"
    }
   ],
   "source": [
    "N_FEATURES = 27\n",
    "model = TradingTransformer(N_FEATURES)\n",
    "\n",
    "model(sample_batch[0]).shape, sample_batch[1].shape"
   ]
  },
  {
   "cell_type": "code",
   "execution_count": 32,
   "id": "d45736e4",
   "metadata": {
    "execution": {
     "iopub.execute_input": "2025-04-14T08:13:07.585235Z",
     "iopub.status.busy": "2025-04-14T08:13:07.584929Z",
     "iopub.status.idle": "2025-04-14T08:13:07.630181Z",
     "shell.execute_reply": "2025-04-14T08:13:07.629493Z",
     "shell.execute_reply.started": "2025-04-14T08:13:07.585206Z"
    },
    "trusted": true
   },
   "outputs": [
    {
     "name": "stdout",
     "output_type": "stream",
     "text": [
      "===============================================================================================\n",
      "Layer (type:depth-idx)                        Output Shape              Param #\n",
      "===============================================================================================\n",
      "TradingTransformer                            [64, 3]                   --\n",
      "├─Linear: 1-1                                 [64, 128, 512]            14,336\n",
      "├─LearnablePositionalEncoding: 1-2            [64, 128, 512]            2,560,000\n",
      "│    └─Dropout: 2-1                           [64, 128, 512]            --\n",
      "├─TransformerEncoder: 1-3                     [64, 128, 512]            --\n",
      "│    └─ModuleList: 2-2                        --                        --\n",
      "│    │    └─TransformerEncoderLayer: 3-1      [64, 128, 512]            3,152,384\n",
      "│    │    └─TransformerEncoderLayer: 3-2      [64, 128, 512]            3,152,384\n",
      "│    │    └─TransformerEncoderLayer: 3-3      [64, 128, 512]            3,152,384\n",
      "│    │    └─TransformerEncoderLayer: 3-4      [64, 128, 512]            3,152,384\n",
      "│    │    └─TransformerEncoderLayer: 3-5      [64, 128, 512]            3,152,384\n",
      "│    │    └─TransformerEncoderLayer: 3-6      [64, 128, 512]            3,152,384\n",
      "├─Sequential: 1-4                             [64, 3]                   --\n",
      "│    └─Linear: 2-3                            [64, 256]                 131,328\n",
      "│    └─ReLU: 2-4                              [64, 256]                 --\n",
      "│    └─Dropout: 2-5                           [64, 256]                 --\n",
      "│    └─Linear: 2-6                            [64, 3]                   771\n",
      "===============================================================================================\n",
      "Total params: 21,620,739\n",
      "Trainable params: 21,620,739\n",
      "Non-trainable params: 0\n",
      "Total mult-adds (M): 816.45\n",
      "===============================================================================================\n",
      "Input size (MB): 0.88\n",
      "Forward/backward pass size (MB): 1442.97\n",
      "Params size (MB): 51.03\n",
      "Estimated Total Size (MB): 1494.89\n",
      "===============================================================================================\n"
     ]
    }
   ],
   "source": [
    "from torchinfo import summary\n",
    "print(summary(model, (64, 128, 27)))"
   ]
  },
  {
   "cell_type": "markdown",
   "id": "f51a2649-7985-4b80-991c-0b8223d43884",
   "metadata": {},
   "source": [
    "# 4 - Train and Evaluate model"
   ]
  },
  {
   "cell_type": "code",
   "execution_count": 33,
   "id": "c9760660",
   "metadata": {
    "execution": {
     "iopub.execute_input": "2025-04-14T08:13:40.436930Z",
     "iopub.status.busy": "2025-04-14T08:13:40.436540Z",
     "iopub.status.idle": "2025-04-14T08:13:40.447496Z",
     "shell.execute_reply": "2025-04-14T08:13:40.446543Z",
     "shell.execute_reply.started": "2025-04-14T08:13:40.436894Z"
    },
    "trusted": true
   },
   "outputs": [],
   "source": [
    "class EarlyStopping:\n",
    "    def __init__(self, patience=3, min_delta=0.001):\n",
    "        \"\"\"\n",
    "        patience: Số epoch chờ mà không cải thiện trước khi dừng\n",
    "        min_delta: Độ cải thiện tối thiểu để coi là tốt hơn\n",
    "        \"\"\"\n",
    "        self.patience = patience\n",
    "        self.min_delta = min_delta\n",
    "        self.counter = 0\n",
    "        self.best_loss = None\n",
    "        self.early_stop = False\n",
    "\n",
    "    def __call__(self, val_loss):\n",
    "        if self.best_loss is None:\n",
    "            self.best_loss = val_loss\n",
    "        elif val_loss > self.best_loss - self.min_delta:\n",
    "            self.counter += 1\n",
    "            print(f'EarlyStopping counter: {self.counter}/{self.patience}')\n",
    "            if self.counter >= self.patience:\n",
    "                self.early_stop = True\n",
    "        else:\n",
    "            self.best_loss = val_loss\n",
    "            self.counter = 0\n",
    "            \n",
    "def eval_model(model, val_loader, criterion, device):\n",
    "    model.to(device)\n",
    "    model.eval()\n",
    "    running_loss = 0.0\n",
    "    correct = 0\n",
    "    total = 0\n",
    "    \n",
    "    with torch.no_grad():\n",
    "        for images, labels in tqdm(val_loader, unit='batch', desc='\\tEvaluating: '):\n",
    "            images, labels = images.to(device), labels.to(device)\n",
    "            outputs = model(images)\n",
    "            loss = criterion(outputs, labels)\n",
    "            \n",
    "            running_loss += loss.item()\n",
    "            _, predicted = torch.max(outputs.data, -1)\n",
    "            total += labels.size(0)\n",
    "            correct += (predicted == labels).sum().item()\n",
    "    \n",
    "    epoch_loss = running_loss / len(val_loader)\n",
    "    epoch_acc = 100 * correct / total\n",
    "    \n",
    "    return epoch_loss, epoch_acc\n",
    "\n",
    "def train_model(model, train_loader, criterion, optimizer, scheduler, device):\n",
    "    model.to(device)\n",
    "    model.train()\n",
    "    running_loss = 0.0\n",
    "    correct = 0\n",
    "    total = 0\n",
    "        \n",
    "    for images, labels in tqdm(train_loader, unit='batch', desc=f'\\tTraining: '):\n",
    "        images, labels = images.to(device), labels.to(device)\n",
    "        \n",
    "        optimizer.zero_grad()\n",
    "        outputs = model(images)\n",
    "        loss = criterion(outputs, labels)\n",
    "        \n",
    "        loss.backward()\n",
    "        optimizer.step()\n",
    "        \n",
    "        running_loss += loss.item()\n",
    "        _, predicted = torch.max(outputs.data, -1)\n",
    "        total += labels.size(0)\n",
    "        correct += (predicted == labels).sum().item()\n",
    "    \n",
    "    epoch_loss = running_loss / len(train_loader)\n",
    "    epoch_acc = 100 * correct / total\n",
    "    \n",
    "    scheduler.step()\n",
    "    \n",
    "    return epoch_loss, epoch_acc"
   ]
  },
  {
   "cell_type": "code",
   "execution_count": 34,
   "id": "8adff6f0",
   "metadata": {
    "execution": {
     "iopub.execute_input": "2025-04-14T08:13:43.378662Z",
     "iopub.status.busy": "2025-04-14T08:13:43.378347Z",
     "iopub.status.idle": "2025-04-14T08:13:43.384073Z",
     "shell.execute_reply": "2025-04-14T08:13:43.383174Z",
     "shell.execute_reply.started": "2025-04-14T08:13:43.378635Z"
    },
    "trusted": true
   },
   "outputs": [],
   "source": [
    "criterion = nn.CrossEntropyLoss()\n",
    "optimizer = torch.optim.Adam(model.parameters(), lr=0.0001)\n",
    "scheduler = torch.optim.lr_scheduler.StepLR(optimizer, step_size=7, gamma=0.1)"
   ]
  },
  {
   "cell_type": "code",
   "execution_count": 35,
   "id": "5423930c",
   "metadata": {
    "execution": {
     "iopub.execute_input": "2025-04-14T08:13:45.190111Z",
     "iopub.status.busy": "2025-04-14T08:13:45.189803Z",
     "iopub.status.idle": "2025-04-14T08:40:54.607119Z",
     "shell.execute_reply": "2025-04-14T08:40:54.606475Z",
     "shell.execute_reply.started": "2025-04-14T08:13:45.190084Z"
    },
    "trusted": true
   },
   "outputs": [
    {
     "name": "stdout",
     "output_type": "stream",
     "text": [
      "Epoch [1/20]\n"
     ]
    },
    {
     "name": "stderr",
     "output_type": "stream",
     "text": [
      "\tTraining: 100%|██████████| 1642/1642 [04:54<00:00,  5.58batch/s]\n",
      "\tEvaluating: 100%|██████████| 549/549 [00:31<00:00, 17.45batch/s]\n"
     ]
    },
    {
     "name": "stdout",
     "output_type": "stream",
     "text": [
      "\tTrain Loss: 0.9963, Train Accuracy: 52.46%\n",
      "\tVal Loss: 1.0517, Val Accuracy: 47.97%\n",
      "===================================================\n",
      "Epoch [2/20]\n"
     ]
    },
    {
     "name": "stderr",
     "output_type": "stream",
     "text": [
      "\tTraining: 100%|██████████| 1642/1642 [04:54<00:00,  5.57batch/s]\n",
      "\tEvaluating: 100%|██████████| 549/549 [00:31<00:00, 17.46batch/s]\n"
     ]
    },
    {
     "name": "stdout",
     "output_type": "stream",
     "text": [
      "\tTrain Loss: 1.0018, Train Accuracy: 52.37%\n",
      "\tVal Loss: 1.0373, Val Accuracy: 49.31%\n",
      "===================================================\n",
      "Epoch [3/20]\n"
     ]
    },
    {
     "name": "stderr",
     "output_type": "stream",
     "text": [
      "\tTraining: 100%|██████████| 1642/1642 [04:54<00:00,  5.58batch/s]\n",
      "\tEvaluating: 100%|██████████| 549/549 [00:31<00:00, 17.46batch/s]\n"
     ]
    },
    {
     "name": "stdout",
     "output_type": "stream",
     "text": [
      "\tTrain Loss: 1.0135, Train Accuracy: 50.89%\n",
      "\tVal Loss: 1.0641, Val Accuracy: 46.25%\n",
      "EarlyStopping counter: 1/3\n",
      "===================================================\n",
      "Epoch [4/20]\n"
     ]
    },
    {
     "name": "stderr",
     "output_type": "stream",
     "text": [
      "\tTraining: 100%|██████████| 1642/1642 [04:54<00:00,  5.58batch/s]\n",
      "\tEvaluating: 100%|██████████| 549/549 [00:31<00:00, 17.46batch/s]\n"
     ]
    },
    {
     "name": "stdout",
     "output_type": "stream",
     "text": [
      "\tTrain Loss: 1.0154, Train Accuracy: 51.23%\n",
      "\tVal Loss: 1.0630, Val Accuracy: 46.25%\n",
      "EarlyStopping counter: 2/3\n",
      "===================================================\n",
      "Epoch [5/20]\n"
     ]
    },
    {
     "name": "stderr",
     "output_type": "stream",
     "text": [
      "\tTraining: 100%|██████████| 1642/1642 [04:54<00:00,  5.57batch/s]\n",
      "\tEvaluating: 100%|██████████| 549/549 [00:31<00:00, 17.45batch/s]"
     ]
    },
    {
     "name": "stdout",
     "output_type": "stream",
     "text": [
      "\tTrain Loss: 1.0180, Train Accuracy: 50.77%\n",
      "\tVal Loss: 1.0631, Val Accuracy: 46.25%\n",
      "EarlyStopping counter: 3/3\n",
      "Early stopping triggered!\n"
     ]
    },
    {
     "name": "stderr",
     "output_type": "stream",
     "text": [
      "\n"
     ]
    }
   ],
   "source": [
    "NUM_EPOCHS = 20\n",
    "PATIENCE = 3\n",
    "MIN_DELTA = 0.001\n",
    "DEVICE = torch.device('cuda' if torch.cuda.is_available() else 'cpu')\n",
    "torch.cuda.empty_cache()\n",
    "    \n",
    "train_losses = []\n",
    "train_accs = []\n",
    "val_losses = []\n",
    "val_accs = []\n",
    "\n",
    "early_stopping = EarlyStopping(patience=PATIENCE, min_delta=MIN_DELTA)\n",
    "\n",
    "for epoch in range(NUM_EPOCHS):\n",
    "    print(f'Epoch [{epoch + 1}/{NUM_EPOCHS}]')\n",
    "    \n",
    "    train_loss, train_acc = train_model(model, train_loader, criterion, optimizer, scheduler, DEVICE)\n",
    "    val_loss, val_acc = eval_model(model, val_loader, criterion, DEVICE)\n",
    "    \n",
    "    print(f'\\tTrain Loss: {train_loss:.4f}, Train Accuracy: {train_acc:.2f}%')\n",
    "    print(f'\\tVal Loss: {val_loss:.4f}, Val Accuracy: {val_acc:.2f}%')\n",
    "    train_losses.append(train_loss)\n",
    "    train_accs.append(train_acc)\n",
    "    val_losses.append(val_loss)\n",
    "    val_accs.append(val_acc)\n",
    "    \n",
    "    # Kiểm tra Early Stopping\n",
    "    early_stopping(val_loss)\n",
    "    if early_stopping.early_stop:\n",
    "        print(\"Early stopping triggered!\")\n",
    "        break\n",
    "    print('===================================================')"
   ]
  },
  {
   "cell_type": "code",
   "execution_count": 36,
   "id": "829afcde",
   "metadata": {
    "execution": {
     "iopub.execute_input": "2025-04-14T08:47:45.283443Z",
     "iopub.status.busy": "2025-04-14T08:47:45.283074Z",
     "iopub.status.idle": "2025-04-14T08:47:46.093606Z",
     "shell.execute_reply": "2025-04-14T08:47:46.092789Z",
     "shell.execute_reply.started": "2025-04-14T08:47:45.283412Z"
    },
    "trusted": true
   },
   "outputs": [
    {
     "data": {
      "image/png": "[encoded data removed]",
      "text/plain": [
       "<Figure size 1200x800 with 4 Axes>"
      ]
     },
     "metadata": {},
     "output_type": "display_data"
    }
   ],
   "source": [
    "import matplotlib.pyplot as plt\n",
    "def plot_training_results(train_losses, train_accs, val_losses, val_accs):\n",
    "    \"\"\"\n",
    "    Vẽ biểu đồ kết quả huấn luyện: loss và accuracy cho train và validation.\n",
    "    \n",
    "    Parameters:\n",
    "    - train_losses: List các giá trị loss của train qua các epoch\n",
    "    - train_accs: List các giá trị accuracy của train qua các epoch\n",
    "    - val_losses: List các giá trị loss của validation qua các epoch\n",
    "    - val_accs: List các giá trị accuracy của validation qua các epoch\n",
    "    \"\"\"\n",
    "    epochs = range(1, len(train_losses) + 1)\n",
    "    \n",
    "    # Tạo figure với 2x2 subplot\n",
    "    plt.figure(figsize=(12, 8))\n",
    "    \n",
    "    # Subplot 1: Train Loss\n",
    "    plt.subplot(2, 2, 1)\n",
    "    plt.plot(epochs, train_losses, 'b-', label='Train Loss')\n",
    "    plt.xlabel('Epoch')\n",
    "    plt.ylabel('Loss')\n",
    "    plt.title('Training Loss')\n",
    "    plt.legend()\n",
    "    plt.grid(True)\n",
    "    \n",
    "    # Subplot 2: Train Accuracy\n",
    "    plt.subplot(2, 2, 2)\n",
    "    plt.plot(epochs, train_accs, 'g-', label='Train Accuracy')\n",
    "    plt.xlabel('Epoch')\n",
    "    plt.ylabel('Accuracy (%)')\n",
    "    plt.title('Training Accuracy')\n",
    "    plt.legend()\n",
    "    plt.grid(True)\n",
    "    \n",
    "    # Subplot 3: Validation Loss\n",
    "    plt.subplot(2, 2, 3)\n",
    "    plt.plot(epochs, val_losses, 'r-', label='Validation Loss')\n",
    "    plt.xlabel('Epoch')\n",
    "    plt.ylabel('Loss')\n",
    "    plt.title('Validation Loss')\n",
    "    plt.legend()\n",
    "    plt.grid(True)\n",
    "    \n",
    "    # Subplot 4: Validation Accuracy\n",
    "    plt.subplot(2, 2, 4)\n",
    "    plt.plot(epochs, val_accs, 'm-', label='Validation Accuracy')\n",
    "    plt.xlabel('Epoch')\n",
    "    plt.ylabel('Accuracy (%)')\n",
    "    plt.title('Validation Accuracy')\n",
    "    plt.legend()\n",
    "    plt.grid(True)\n",
    "    \n",
    "    # Điều chỉnh layout và hiển thị\n",
    "    plt.tight_layout()\n",
    "    plt.show()\n",
    "\n",
    "plot_training_results(train_losses, train_accs, val_losses, val_accs)"
   ]
  },
  {
   "cell_type": "code",
   "execution_count": 37,
   "id": "7ac6557f",
   "metadata": {
    "execution": {
     "iopub.execute_input": "2025-04-14T08:47:51.511082Z",
     "iopub.status.busy": "2025-04-14T08:47:51.510790Z",
     "iopub.status.idle": "2025-04-14T08:47:51.719617Z",
     "shell.execute_reply": "2025-04-14T08:47:51.718677Z",
     "shell.execute_reply.started": "2025-04-14T08:47:51.511060Z"
    },
    "trusted": true
   },
   "outputs": [],
   "source": [
    "torch.save(model.state_dict(), 'model.pth')"
   ]
  },
  {
   "cell_type": "code",
   "execution_count": 38,
   "id": "a4c00022-b206-4e78-a66c-7cc765a9df91",
   "metadata": {
    "execution": {
     "iopub.execute_input": "2025-04-14T08:47:54.229063Z",
     "iopub.status.busy": "2025-04-14T08:47:54.228660Z",
     "iopub.status.idle": "2025-04-14T08:47:54.235866Z",
     "shell.execute_reply": "2025-04-14T08:47:54.234700Z",
     "shell.execute_reply.started": "2025-04-14T08:47:54.229025Z"
    },
    "trusted": true
   },
   "outputs": [],
   "source": [
    "def test_model(model, test_loader, device='cuda' if torch.cuda.is_available() else 'cpu'):\n",
    "    model.to(device)\n",
    "    model.eval()\n",
    "\n",
    "    all_preds = []\n",
    "    all_labels = []\n",
    "\n",
    "    with torch.no_grad():\n",
    "        for batch_x, batch_y in test_loader:\n",
    "            batch_x = batch_x.to(device)  # [B, seq_len, n_features]\n",
    "            batch_y = batch_y.to(device)\n",
    "\n",
    "            outputs = model(batch_x)  # Expecting [B, num_classes]\n",
    "            preds = torch.argmax(outputs, dim=-1)\n",
    "\n",
    "            all_preds.extend(preds.cpu().numpy())\n",
    "            all_labels.extend(batch_y.cpu().numpy())\n",
    "\n",
    "    target_names = ['BUY', 'SELL', 'HOLD']\n",
    "    print(\"Classification Report:\")\n",
    "    print(classification_report(all_labels, all_preds, target_names=target_names, digits=4, zero_division=0))"
   ]
  },
  {
   "cell_type": "code",
   "execution_count": 39,
   "id": "72707918-5b2b-475e-870d-20facf485d28",
   "metadata": {
    "execution": {
     "iopub.execute_input": "2025-04-14T08:47:57.982921Z",
     "iopub.status.busy": "2025-04-14T08:47:57.982631Z",
     "iopub.status.idle": "2025-04-14T08:49:31.409846Z",
     "shell.execute_reply": "2025-04-14T08:49:31.409060Z",
     "shell.execute_reply.started": "2025-04-14T08:47:57.982898Z"
    },
    "trusted": true
   },
   "outputs": [
    {
     "name": "stdout",
     "output_type": "stream",
     "text": [
      "Classification Report:\n",
      "              precision    recall  f1-score   support\n",
      "\n",
      "         BUY     0.0000    0.0000    0.0000     32225\n",
      "        SELL     0.0000    0.0000    0.0000     21478\n",
      "        HOLD     0.4887    1.0000    0.6565     51325\n",
      "\n",
      "    accuracy                         0.4887    105028\n",
      "   macro avg     0.1629    0.3333    0.2188    105028\n",
      "weighted avg     0.2388    0.4887    0.3208    105028\n",
      "\n"
     ]
    }
   ],
   "source": [
    "test_model(model, train_loader, DEVICE)"
   ]
  },
  {
   "cell_type": "code",
   "execution_count": 40,
   "id": "3e8f69e6-0280-4e85-a630-0123a92807c3",
   "metadata": {
    "execution": {
     "iopub.execute_input": "2025-04-14T08:49:31.411085Z",
     "iopub.status.busy": "2025-04-14T08:49:31.410780Z",
     "iopub.status.idle": "2025-04-14T08:50:02.609850Z",
     "shell.execute_reply": "2025-04-14T08:50:02.609042Z",
     "shell.execute_reply.started": "2025-04-14T08:49:31.411060Z"
    },
    "trusted": true
   },
   "outputs": [
    {
     "name": "stdout",
     "output_type": "stream",
     "text": [
      "Classification Report:\n",
      "              precision    recall  f1-score   support\n",
      "\n",
      "         BUY     0.0000    0.0000    0.0000     11373\n",
      "        SELL     0.0000    0.0000    0.0000      7485\n",
      "        HOLD     0.4625    1.0000    0.6325     16225\n",
      "\n",
      "    accuracy                         0.4625     35083\n",
      "   macro avg     0.1542    0.3333    0.2108     35083\n",
      "weighted avg     0.2139    0.4625    0.2925     35083\n",
      "\n"
     ]
    }
   ],
   "source": [
    "test_model(model, val_loader, DEVICE)"
   ]
  },
  {
   "cell_type": "code",
   "execution_count": 41,
   "id": "b7304e54-da55-4d87-8442-fd7277fbd3ee",
   "metadata": {
    "execution": {
     "iopub.execute_input": "2025-04-14T08:50:02.611202Z",
     "iopub.status.busy": "2025-04-14T08:50:02.610932Z",
     "iopub.status.idle": "2025-04-14T08:51:42.799895Z",
     "shell.execute_reply": "2025-04-14T08:51:42.799136Z",
     "shell.execute_reply.started": "2025-04-14T08:50:02.611180Z"
    },
    "trusted": true
   },
   "outputs": [
    {
     "name": "stdout",
     "output_type": "stream",
     "text": [
      "Classification Report:\n",
      "              precision    recall  f1-score   support\n",
      "\n",
      "         BUY     0.0000    0.0000    0.0000     36621\n",
      "        SELL     0.0000    0.0000    0.0000     24480\n",
      "        HOLD     0.4579    1.0000    0.6282     51620\n",
      "\n",
      "    accuracy                         0.4579    112721\n",
      "   macro avg     0.1526    0.3333    0.2094    112721\n",
      "weighted avg     0.2097    0.4579    0.2877    112721\n",
      "\n"
     ]
    }
   ],
   "source": [
    "test_model(model, test_loader, DEVICE)"
   ]
  },
  {
   "cell_type": "code",
   "execution_count": 42,
   "id": "d5294e71-05dc-4645-bc83-16f924b60b39",
   "metadata": {
    "execution": {
     "iopub.execute_input": "2025-04-14T08:51:42.801276Z",
     "iopub.status.busy": "2025-04-14T08:51:42.800950Z",
     "iopub.status.idle": "2025-04-14T08:51:42.805875Z",
     "shell.execute_reply": "2025-04-14T08:51:42.804901Z",
     "shell.execute_reply.started": "2025-04-14T08:51:42.801243Z"
    },
    "trusted": true
   },
   "outputs": [],
   "source": [
    "def get_prediction(model, inputs, device):\n",
    "    # inputs = [B, S, N]\n",
    "    model.to(device)\n",
    "    model.eval()\n",
    "    with torch.no_grad():\n",
    "        inputs = inputs.to(device)\n",
    "        outputs = model(inputs)\n",
    "        preds = torch.argmax(outputs, dim=-1)\n",
    "    return preds.cpu().numpy()"
   ]
  },
  {
   "cell_type": "code",
   "execution_count": 43,
   "id": "d9d79f9e-021a-44f6-af02-b8dd96dfe311",
   "metadata": {
    "execution": {
     "iopub.execute_input": "2025-04-14T09:09:38.995761Z",
     "iopub.status.busy": "2025-04-14T09:09:38.995442Z",
     "iopub.status.idle": "2025-04-14T09:09:39.066841Z",
     "shell.execute_reply": "2025-04-14T09:09:39.066154Z",
     "shell.execute_reply.started": "2025-04-14T09:09:38.995737Z"
    },
    "trusted": true
   },
   "outputs": [
    {
     "data": {
      "text/plain": [
       "array([2, 2, 2, 2, 2, 2, 2, 2, 2, 2, 2, 2, 2, 2, 2, 2, 2, 2, 2, 2, 2, 2,\n",
       "       2, 2, 2, 2, 2, 2, 2, 2, 2, 2, 2, 2, 2, 2, 2, 2, 2, 2, 2, 2, 2, 2,\n",
       "       2, 2, 2, 2, 2, 2, 2, 2, 2, 2, 2, 2, 2, 2, 2, 2, 2, 2, 2, 2])"
      ]
     },
     "execution_count": 43,
     "metadata": {},
     "output_type": "execute_result"
    }
   ],
   "source": [
    "batch = next(iter(test_loader))\n",
    "inputs, labels = batch[0], batch[1]\n",
    "\n",
    "get_prediction(model, inputs, DEVICE)"
   ]
  },
  {
   "cell_type": "code",
   "execution_count": null,
   "id": "79d98d9f-1913-4077-b286-24e5f441f7cc",
   "metadata": {
    "trusted": true
   },
   "outputs": [],
   "source": []
  }
 ],
 "metadata": {
  "kaggle": {
   "accelerator": "gpu",
   "dataSources": [
    {
     "datasetId": 7078972,
     "sourceId": 11397995,
     "sourceType": "datasetVersion"
    }
   ],
   "dockerImageVersionId": 30919,
   "isGpuEnabled": true,
   "isInternetEnabled": true,
   "language": "python",
   "sourceType": "notebook"
  },
  "kernelspec": {
   "display_name": "Python 3",
   "language": "python",
   "name": "python3"
  },
  "language_info": {
   "codemirror_mode": {
    "name": "ipython",
    "version": 3
   },
   "file_extension": ".py",
   "mimetype": "text/x-python",
   "name": "python",
   "nbconvert_exporter": "python",
   "pygments_lexer": "ipython3",
   "version": "3.10.12"
  }
 },
 "nbformat": 4,
 "nbformat_minor": 5
}
