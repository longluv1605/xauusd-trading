{
 "cells": [
  {
   "cell_type": "markdown",
   "id": "6b73380e",
   "metadata": {
    "papermill": {
     "duration": 0.005472,
     "end_time": "2025-04-22T02:29:46.406483",
     "exception": false,
     "start_time": "2025-04-22T02:29:46.401011",
     "status": "completed"
    },
    "tags": []
   },
   "source": [
    "# 1 - Import requirements"
   ]
  },
  {
   "cell_type": "code",
   "execution_count": 1,
   "id": "90571bea",
   "metadata": {
    "execution": {
     "iopub.execute_input": "2025-04-22T02:29:46.416863Z",
     "iopub.status.busy": "2025-04-22T02:29:46.416566Z",
     "iopub.status.idle": "2025-04-22T02:29:46.421215Z",
     "shell.execute_reply": "2025-04-22T02:29:46.420524Z"
    },
    "papermill": {
     "duration": 0.011218,
     "end_time": "2025-04-22T02:29:46.422502",
     "exception": false,
     "start_time": "2025-04-22T02:29:46.411284",
     "status": "completed"
    },
    "tags": []
   },
   "outputs": [],
   "source": [
    "# !pip install pytorch-optimizer"
   ]
  },
  {
   "cell_type": "code",
   "execution_count": 2,
   "id": "947af9b6",
   "metadata": {
    "execution": {
     "iopub.execute_input": "2025-04-22T02:29:46.432626Z",
     "iopub.status.busy": "2025-04-22T02:29:46.432423Z",
     "iopub.status.idle": "2025-04-22T02:29:52.615713Z",
     "shell.execute_reply": "2025-04-22T02:29:52.614996Z"
    },
    "papermill": {
     "duration": 6.189801,
     "end_time": "2025-04-22T02:29:52.617249",
     "exception": false,
     "start_time": "2025-04-22T02:29:46.427448",
     "status": "completed"
    },
    "tags": []
   },
   "outputs": [],
   "source": [
    "import os\n",
    "import math\n",
    "import pandas as pd\n",
    "import numpy as np\n",
    "from sklearn.metrics import classification_report, confusion_matrix\n",
    "from sklearn.utils.class_weight import compute_class_weight\n",
    "\n",
    "import torch\n",
    "import torch.nn as nn\n",
    "from torch.nn import TransformerEncoder, TransformerEncoderLayer\n",
    "from torch.utils.data import Dataset, DataLoader, Subset\n",
    "import torch.nn.functional as F\n",
    "# from pytorch_optimizer import SAM\n",
    "\n",
    "from tqdm import tqdm"
   ]
  },
  {
   "cell_type": "markdown",
   "id": "f660f703",
   "metadata": {
    "papermill": {
     "duration": 0.00432,
     "end_time": "2025-04-22T02:29:52.626931",
     "exception": false,
     "start_time": "2025-04-22T02:29:52.622611",
     "status": "completed"
    },
    "tags": []
   },
   "source": [
    "# 2 - Prepare data"
   ]
  },
  {
   "cell_type": "code",
   "execution_count": 3,
   "id": "6063253f",
   "metadata": {
    "execution": {
     "iopub.execute_input": "2025-04-22T02:29:52.636576Z",
     "iopub.status.busy": "2025-04-22T02:29:52.636203Z",
     "iopub.status.idle": "2025-04-22T02:29:52.639801Z",
     "shell.execute_reply": "2025-04-22T02:29:52.639169Z"
    },
    "papermill": {
     "duration": 0.0098,
     "end_time": "2025-04-22T02:29:52.641095",
     "exception": false,
     "start_time": "2025-04-22T02:29:52.631295",
     "status": "completed"
    },
    "tags": []
   },
   "outputs": [],
   "source": [
    "label_mapping = {\n",
    "    'BUY': 0,\n",
    "    'SELL': 1,\n",
    "    'HOLD': 2\n",
    "}\n",
    "\n",
    "def map_label(x):\n",
    "    return label_mapping[x] if x in label_mapping else x"
   ]
  },
  {
   "cell_type": "code",
   "execution_count": 4,
   "id": "35eac6b3",
   "metadata": {
    "execution": {
     "iopub.execute_input": "2025-04-22T02:29:52.650440Z",
     "iopub.status.busy": "2025-04-22T02:29:52.650215Z",
     "iopub.status.idle": "2025-04-22T02:29:52.657337Z",
     "shell.execute_reply": "2025-04-22T02:29:52.656701Z"
    },
    "papermill": {
     "duration": 0.013226,
     "end_time": "2025-04-22T02:29:52.658565",
     "exception": false,
     "start_time": "2025-04-22T02:29:52.645339",
     "status": "completed"
    },
    "tags": []
   },
   "outputs": [],
   "source": [
    "def load_shape(shape_path):\n",
    "    with open(shape_path, 'r') as f:\n",
    "        shape = f.readlines()\n",
    "        n_samples = int(shape[0])\n",
    "        seq_len = int(shape[1])\n",
    "        n_features = int(shape[2])\n",
    "    return n_samples, seq_len, n_features\n",
    "\n",
    "class TradingDataset(Dataset):\n",
    "    def __init__(self, save_path, n_samples, sequence_length, n_features):\n",
    "        self.save_path = save_path\n",
    "        self.n_samples = n_samples\n",
    "        self.sequences = np.memmap(f'{save_path}/sequences.dat', dtype=np.float32, mode='r', \n",
    "                                 shape=(n_samples, sequence_length, n_features))\n",
    "        self.labels = np.memmap(f'{save_path}/labels.dat', dtype=np.int64, mode='r', \n",
    "                              shape=(n_samples,))\n",
    "    \n",
    "    def __len__(self):\n",
    "        return self.n_samples\n",
    "    \n",
    "    def __getitem__(self, idx):\n",
    "        seq = self.sequences[idx].copy()  # Tạo bản sao writable\n",
    "        lbl = self.labels[idx].copy()\n",
    "        return torch.from_numpy(seq).float(), torch.from_numpy(np.array([lbl])).long()[0]\n",
    "\n",
    "def prepare_transformer_input(train_shape_path, val_shape_path, test_shape_path, data_path, batch_size=32):    \n",
    "    n_train_samples, sequence_length, n_features = load_shape(train_shape_path)\n",
    "    n_val_samples, _, _ = load_shape(val_shape_path)\n",
    "    n_test_samples, _, _ = load_shape(test_shape_path)\n",
    "    \n",
    "    train_path = f'{data_path}/train'\n",
    "    val_path = f'{data_path}/val'\n",
    "    test_path = f'{data_path}/test'\n",
    "    \n",
    "    # Tạo datasets\n",
    "    train_dataset = TradingDataset(train_path, n_train_samples, sequence_length, n_features)\n",
    "    val_dataset = TradingDataset(val_path, n_val_samples, sequence_length, n_features)\n",
    "    test_dataset = TradingDataset(test_path, n_test_samples, sequence_length, n_features)\n",
    "    \n",
    "    # Tạo dataloaders\n",
    "    train_loader = DataLoader(train_dataset, batch_size=batch_size, shuffle=False)\n",
    "    val_loader = DataLoader(val_dataset, batch_size=batch_size, shuffle=False)\n",
    "    test_loader = DataLoader(test_dataset, batch_size=batch_size, shuffle=False)\n",
    "    \n",
    "    return train_loader, val_loader, test_loader"
   ]
  },
  {
   "cell_type": "code",
   "execution_count": 5,
   "id": "a2ab68e8",
   "metadata": {
    "execution": {
     "iopub.execute_input": "2025-04-22T02:29:52.667943Z",
     "iopub.status.busy": "2025-04-22T02:29:52.667711Z",
     "iopub.status.idle": "2025-04-22T02:29:52.701626Z",
     "shell.execute_reply": "2025-04-22T02:29:52.701080Z"
    },
    "papermill": {
     "duration": 0.039993,
     "end_time": "2025-04-22T02:29:52.702847",
     "exception": false,
     "start_time": "2025-04-22T02:29:52.662854",
     "status": "completed"
    },
    "tags": []
   },
   "outputs": [],
   "source": [
    "train_shape_path = '/kaggle/input/processed-xauusd/classification/train/shape.txt'\n",
    "val_shape_path = '/kaggle/input/processed-xauusd/classification/val/shape.txt'\n",
    "test_shape_path = '/kaggle/input/processed-xauusd/classification/test/shape.txt'\n",
    "\n",
    "train_loader, val_loader, test_loader = prepare_transformer_input(\n",
    "    train_shape_path, val_shape_path, test_shape_path,\n",
    "    data_path='/kaggle/input/processed-xauusd/classification',\n",
    "    batch_size=32\n",
    ")"
   ]
  },
  {
   "cell_type": "code",
   "execution_count": 6,
   "id": "94fc6fee",
   "metadata": {
    "execution": {
     "iopub.execute_input": "2025-04-22T02:29:52.712183Z",
     "iopub.status.busy": "2025-04-22T02:29:52.711940Z",
     "iopub.status.idle": "2025-04-22T02:29:52.867214Z",
     "shell.execute_reply": "2025-04-22T02:29:52.866181Z"
    },
    "papermill": {
     "duration": 0.161528,
     "end_time": "2025-04-22T02:29:52.868693",
     "exception": false,
     "start_time": "2025-04-22T02:29:52.707165",
     "status": "completed"
    },
    "tags": []
   },
   "outputs": [
    {
     "name": "stdout",
     "output_type": "stream",
     "text": [
      "Batch input shape: torch.Size([32, 128, 121])\n",
      "Batch labels shape: torch.Size([32])\n",
      "\n",
      "Example input shape for Transformer: torch.Size([128, 121])\n",
      "tensor([[-6.5006e-01, -2.1643e-01, -1.5026e+00,  ..., -9.4268e-01,\n",
      "          8.3176e-01,  8.9499e-01],\n",
      "        [-4.3161e-01,  5.0714e-01,  1.6777e+00,  ..., -9.4268e-01,\n",
      "          8.3176e-01,  8.9499e-01],\n",
      "        [-4.3161e-01,  6.4077e-04,  3.8234e-03,  ..., -9.4268e-01,\n",
      "          8.3176e-01,  8.9499e-01],\n",
      "        ...,\n",
      "        [-4.5147e-01, -4.7598e-02, -1.6356e-01,  ..., -1.3160e+00,\n",
      "          8.3176e-01,  8.9499e-01],\n",
      "        [-6.5006e-01,  2.1771e-01,  1.5103e+00,  ..., -1.3160e+00,\n",
      "          8.3176e-01,  8.9499e-01],\n",
      "        [-6.3020e-01,  4.8879e-02,  3.0816e-01,  ..., -1.3160e+00,\n",
      "          8.3176e-01,  8.9499e-01]])\n",
      "Number of batches: 3282\n"
     ]
    }
   ],
   "source": [
    "# Kiểm tra\n",
    "sample_batch = next(iter(train_loader))\n",
    "print(\"Batch input shape:\", sample_batch[0].shape)\n",
    "print(\"Batch labels shape:\", sample_batch[1].shape)\n",
    "print(\"\\nExample input shape for Transformer:\", sample_batch[0][0].shape)\n",
    "print(sample_batch[0][0])\n",
    "print(\"Number of batches:\", len(train_loader))"
   ]
  },
  {
   "cell_type": "markdown",
   "id": "98e89c34",
   "metadata": {
    "papermill": {
     "duration": 0.004245,
     "end_time": "2025-04-22T02:29:52.877650",
     "exception": false,
     "start_time": "2025-04-22T02:29:52.873405",
     "status": "completed"
    },
    "tags": []
   },
   "source": [
    "# 3 - Build model"
   ]
  },
  {
   "cell_type": "code",
   "execution_count": 7,
   "id": "ad1955ed",
   "metadata": {
    "execution": {
     "iopub.execute_input": "2025-04-22T02:29:52.887996Z",
     "iopub.status.busy": "2025-04-22T02:29:52.887746Z",
     "iopub.status.idle": "2025-04-22T02:29:52.900640Z",
     "shell.execute_reply": "2025-04-22T02:29:52.899829Z"
    },
    "papermill": {
     "duration": 0.019536,
     "end_time": "2025-04-22T02:29:52.901777",
     "exception": false,
     "start_time": "2025-04-22T02:29:52.882241",
     "status": "completed"
    },
    "tags": []
   },
   "outputs": [],
   "source": [
    "class InceptionModule(nn.Module):\n",
    "    def __init__(self, in_channels):\n",
    "        super().__init__()\n",
    "        self.branch1 = nn.Conv1d(in_channels, 32, kernel_size=1, padding='same')\n",
    "        self.branch3 = nn.Conv1d(in_channels, 32, kernel_size=3, padding='same')\n",
    "        self.branch5 = nn.Conv1d(in_channels, 32, kernel_size=5, padding='same')\n",
    "        self.branch_pool = nn.Sequential(\n",
    "            nn.MaxPool1d(kernel_size=3, stride=1, padding=1),\n",
    "            nn.Conv1d(in_channels, 32, kernel_size=1)\n",
    "        )\n",
    "\n",
    "    def forward(self, x):\n",
    "        return torch.cat([self.branch1(x), self.branch3(x), self.branch5(x), self.branch_pool(x)], dim=1)\n",
    "\n",
    "class PositionalEncoding(nn.Module):\n",
    "    def __init__(self, d_model, max_len=128):\n",
    "        super().__init__()\n",
    "        pe = torch.zeros(max_len, d_model)\n",
    "        position = torch.arange(0, max_len).unsqueeze(1)\n",
    "        div_term = torch.exp(torch.arange(0, d_model, 2) * (-math.log(10000.0) / d_model))\n",
    "        pe[:, 0::2] = torch.sin(position * div_term)\n",
    "        pe[:, 1::2] = torch.cos(position * div_term)\n",
    "        self.register_buffer('pe', pe.unsqueeze(0))\n",
    "\n",
    "    def forward(self, x):\n",
    "        return x + self.pe[:, :x.size(1)]\n",
    "\n",
    "class CrossAttentionFusion(nn.Module):\n",
    "    def __init__(self, cnn_dim, transformer_dim):\n",
    "        super().__init__()\n",
    "        self.query = nn.Linear(cnn_dim, transformer_dim)\n",
    "        self.key = nn.Linear(transformer_dim, transformer_dim)\n",
    "        self.value = nn.Linear(transformer_dim, transformer_dim)\n",
    "        \n",
    "    def forward(self, cnn_features, transformer_features):\n",
    "        # cnn_features: [batch, cnn_dim]\n",
    "        # transformer_features: [batch, seq_len, transformer_dim]\n",
    "        Q = self.query(cnn_features).unsqueeze(1)  # [batch, 1, transformer_dim]\n",
    "        K = self.key(transformer_features)         # [batch, seq_len, transformer_dim]\n",
    "        V = self.value(transformer_features)       # [batch, seq_len, transformer_dim]\n",
    "        \n",
    "        # Tính attention weights\n",
    "        attn_scores = (Q @ K.transpose(-2, -1)) / (K.size(-1) ** 0.5)  # [batch, 1, seq_len]\n",
    "        attn_weights = torch.softmax(attn_scores, dim=-1)\n",
    "        \n",
    "        # Weighted sum của values\n",
    "        return torch.bmm(attn_weights, V).squeeze(1)  # [batch, transformer_dim]\n",
    "\n",
    "class HighwayNetwork(nn.Module):\n",
    "    def __init__(self, d_model):\n",
    "        super().__init__()\n",
    "        self.gate = nn.Sequential(\n",
    "            nn.Linear(d_model, d_model),\n",
    "            nn.Sigmoid()\n",
    "        )\n",
    "        \n",
    "    def forward(self, fused, transformer):\n",
    "        g = self.gate(fused)\n",
    "        return g * fused + (1 - g) * transformer\n",
    "\n",
    "class EnhancedHybridModel(nn.Module):\n",
    "    def __init__(self, num_features, num_classes=3, d_model=512, nhead=16, dim_feedforward=1024, num_layers=6):\n",
    "        super().__init__()\n",
    "        # 1. InceptionTime Branch\n",
    "        self.inception = nn.Sequential(\n",
    "            InceptionModule(num_features),\n",
    "            nn.ReLU(),\n",
    "            nn.MaxPool1d(2),\n",
    "            InceptionModule(128),\n",
    "            nn.ReLU()\n",
    "        )\n",
    "        \n",
    "        # 2. Transformer Branch\n",
    "        self.transformer_proj = nn.Linear(num_features, d_model)\n",
    "        self.pos_encoder = PositionalEncoding(d_model)\n",
    "        encoder_layer = nn.TransformerEncoderLayer(\n",
    "            d_model=d_model, nhead=nhead, dim_feedforward=dim_feedforward, batch_first=True\n",
    "        )\n",
    "        self.transformer = nn.TransformerEncoder(encoder_layer, num_layers=num_layers)\n",
    "        \n",
    "        # 3. Fusion\n",
    "        self.cross_attention = CrossAttentionFusion(128, d_model)\n",
    "        self.highway = HighwayNetwork(d_model)\n",
    "        \n",
    "        # 4. Classifier\n",
    "        self.classifier = nn.Sequential(\n",
    "            nn.Linear(d_model, 128),\n",
    "            nn.LayerNorm(128),\n",
    "            nn.ReLU(),\n",
    "            nn.Dropout(0.3),\n",
    "            nn.Linear(128, num_classes)\n",
    "        )\n",
    "\n",
    "    def forward(self, x):\n",
    "        # 1. Inception Path\n",
    "        cnn_features = self.inception(x.permute(0, 2, 1))  # [batch, channels, seq_len//2]\n",
    "        cnn_features = cnn_features.mean(dim=-1)          # [batch, channels=128]\n",
    "        \n",
    "        # 2. Transformer Path\n",
    "        x_proj = self.pos_encoder(self.transformer_proj(x))  # [batch, seq_len, d_model]\n",
    "        transformer_features = self.transformer(x_proj)      # [batch, seq_len, d_model]\n",
    "        \n",
    "        # 3. Fusion\n",
    "        fused = self.cross_attention(cnn_features, transformer_features)  # [batch, d_model]\n",
    "        output = self.highway(fused, transformer_features.mean(dim=1))   # [batch, d_model]\n",
    "        \n",
    "        return self.classifier(output)"
   ]
  },
  {
   "cell_type": "code",
   "execution_count": 8,
   "id": "4c250c2e",
   "metadata": {
    "execution": {
     "iopub.execute_input": "2025-04-22T02:29:52.912948Z",
     "iopub.status.busy": "2025-04-22T02:29:52.912753Z",
     "iopub.status.idle": "2025-04-22T02:29:52.997295Z",
     "shell.execute_reply": "2025-04-22T02:29:52.996529Z"
    },
    "papermill": {
     "duration": 0.092857,
     "end_time": "2025-04-22T02:29:52.999136",
     "exception": false,
     "start_time": "2025-04-22T02:29:52.906279",
     "status": "completed"
    },
    "tags": []
   },
   "outputs": [],
   "source": [
    "N_FEATURES = 121\n",
    "model = EnhancedHybridModel(num_features=N_FEATURES) "
   ]
  },
  {
   "cell_type": "code",
   "execution_count": 9,
   "id": "9f0299cc",
   "metadata": {
    "execution": {
     "iopub.execute_input": "2025-04-22T02:29:53.009973Z",
     "iopub.status.busy": "2025-04-22T02:29:53.009745Z",
     "iopub.status.idle": "2025-04-22T02:29:54.431664Z",
     "shell.execute_reply": "2025-04-22T02:29:54.430212Z"
    },
    "papermill": {
     "duration": 1.42926,
     "end_time": "2025-04-22T02:29:54.433240",
     "exception": false,
     "start_time": "2025-04-22T02:29:53.003980",
     "status": "completed"
    },
    "tags": []
   },
   "outputs": [
    {
     "name": "stdout",
     "output_type": "stream",
     "text": [
      "===============================================================================================\n",
      "Layer (type:depth-idx)                        Output Shape              Param #\n",
      "===============================================================================================\n",
      "EnhancedHybridModel                           [32, 3]                   --\n",
      "├─Sequential: 1-1                             [32, 128, 64]             --\n",
      "│    └─InceptionModule: 2-1                   [32, 128, 128]            --\n",
      "│    │    └─Conv1d: 3-1                       [32, 32, 128]             3,904\n",
      "│    │    └─Conv1d: 3-2                       [32, 32, 128]             11,648\n",
      "│    │    └─Conv1d: 3-3                       [32, 32, 128]             19,392\n",
      "│    │    └─Sequential: 3-4                   [32, 32, 128]             3,904\n",
      "│    └─ReLU: 2-2                              [32, 128, 128]            --\n",
      "│    └─MaxPool1d: 2-3                         [32, 128, 64]             --\n",
      "│    └─InceptionModule: 2-4                   [32, 128, 64]             --\n",
      "│    │    └─Conv1d: 3-5                       [32, 32, 64]              4,128\n",
      "│    │    └─Conv1d: 3-6                       [32, 32, 64]              12,320\n",
      "│    │    └─Conv1d: 3-7                       [32, 32, 64]              20,512\n",
      "│    │    └─Sequential: 3-8                   [32, 32, 64]              4,128\n",
      "│    └─ReLU: 2-5                              [32, 128, 64]             --\n",
      "├─Linear: 1-2                                 [32, 128, 512]            62,464\n",
      "├─PositionalEncoding: 1-3                     [32, 128, 512]            --\n",
      "├─TransformerEncoder: 1-4                     [32, 128, 512]            --\n",
      "│    └─ModuleList: 2-6                        --                        --\n",
      "│    │    └─TransformerEncoderLayer: 3-9      [32, 128, 512]            2,102,784\n",
      "│    │    └─TransformerEncoderLayer: 3-10     [32, 128, 512]            2,102,784\n",
      "│    │    └─TransformerEncoderLayer: 3-11     [32, 128, 512]            2,102,784\n",
      "│    │    └─TransformerEncoderLayer: 3-12     [32, 128, 512]            2,102,784\n",
      "│    │    └─TransformerEncoderLayer: 3-13     [32, 128, 512]            2,102,784\n",
      "│    │    └─TransformerEncoderLayer: 3-14     [32, 128, 512]            2,102,784\n",
      "├─CrossAttentionFusion: 1-5                   [32, 512]                 --\n",
      "│    └─Linear: 2-7                            [32, 512]                 66,048\n",
      "│    └─Linear: 2-8                            [32, 128, 512]            262,656\n",
      "│    └─Linear: 2-9                            [32, 128, 512]            262,656\n",
      "├─HighwayNetwork: 1-6                         [32, 512]                 --\n",
      "│    └─Sequential: 2-10                       [32, 512]                 --\n",
      "│    │    └─Linear: 3-15                      [32, 512]                 262,656\n",
      "│    │    └─Sigmoid: 3-16                     [32, 512]                 --\n",
      "├─Sequential: 1-7                             [32, 3]                   --\n",
      "│    └─Linear: 2-11                           [32, 128]                 65,664\n",
      "│    └─LayerNorm: 2-12                        [32, 128]                 256\n",
      "│    └─ReLU: 2-13                             [32, 128]                 --\n",
      "│    └─Dropout: 2-14                          [32, 128]                 --\n",
      "│    └─Linear: 2-15                           [32, 3]                   387\n",
      "===============================================================================================\n",
      "Total params: 13,679,427\n",
      "Trainable params: 13,679,427\n",
      "Non-trainable params: 0\n",
      "Total mult-adds (M): 476.73\n",
      "===============================================================================================\n",
      "Input size (MB): 1.98\n",
      "Forward/backward pass size (MB): 560.27\n",
      "Params size (MB): 29.50\n",
      "Estimated Total Size (MB): 591.75\n",
      "===============================================================================================\n"
     ]
    }
   ],
   "source": [
    "from torchinfo import summary\n",
    "print(summary(model, (32, 128, 121)))"
   ]
  },
  {
   "cell_type": "code",
   "execution_count": 10,
   "id": "2c98d578",
   "metadata": {
    "execution": {
     "iopub.execute_input": "2025-04-22T02:29:54.444301Z",
     "iopub.status.busy": "2025-04-22T02:29:54.444048Z",
     "iopub.status.idle": "2025-04-22T02:29:54.446894Z",
     "shell.execute_reply": "2025-04-22T02:29:54.446303Z"
    },
    "papermill": {
     "duration": 0.009715,
     "end_time": "2025-04-22T02:29:54.448107",
     "exception": false,
     "start_time": "2025-04-22T02:29:54.438392",
     "status": "completed"
    },
    "tags": []
   },
   "outputs": [],
   "source": [
    "# model(sample_batch[0].to('cuda')).shape, sample_batch[1].shape"
   ]
  },
  {
   "cell_type": "markdown",
   "id": "7599c93c",
   "metadata": {
    "papermill": {
     "duration": 0.004875,
     "end_time": "2025-04-22T02:29:54.457830",
     "exception": false,
     "start_time": "2025-04-22T02:29:54.452955",
     "status": "completed"
    },
    "tags": []
   },
   "source": [
    "# 4 - Train and Evaluate model"
   ]
  },
  {
   "cell_type": "code",
   "execution_count": 11,
   "id": "3fb20a7b",
   "metadata": {
    "execution": {
     "iopub.execute_input": "2025-04-22T02:29:54.468288Z",
     "iopub.status.busy": "2025-04-22T02:29:54.468012Z",
     "iopub.status.idle": "2025-04-22T02:29:54.477636Z",
     "shell.execute_reply": "2025-04-22T02:29:54.476985Z"
    },
    "papermill": {
     "duration": 0.016227,
     "end_time": "2025-04-22T02:29:54.478799",
     "exception": false,
     "start_time": "2025-04-22T02:29:54.462572",
     "status": "completed"
    },
    "tags": []
   },
   "outputs": [],
   "source": [
    "class EarlyStopping:\n",
    "    def __init__(self, patience=3, min_delta=0.001):\n",
    "        \"\"\"\n",
    "        patience: Số epoch chờ mà không cải thiện trước khi dừng\n",
    "        min_delta: Độ cải thiện tối thiểu để coi là tốt hơn\n",
    "        \"\"\"\n",
    "        self.patience = patience\n",
    "        self.min_delta = min_delta\n",
    "        self.counter = 0\n",
    "        self.best_loss = None\n",
    "        self.early_stop = False\n",
    "\n",
    "    def __call__(self, val_loss):\n",
    "        if self.best_loss is None:\n",
    "            self.best_loss = val_loss\n",
    "        elif val_loss > self.best_loss - self.min_delta:\n",
    "            self.counter += 1\n",
    "            print(f'EarlyStopping counter: {self.counter}/{self.patience}')\n",
    "            if self.counter >= self.patience:\n",
    "                self.early_stop = True\n",
    "        else:\n",
    "            self.best_loss = val_loss\n",
    "            self.counter = 0\n",
    "            \n",
    "def eval_model(model, val_loader, criterion, device):\n",
    "    model.to(device)\n",
    "    model.eval()\n",
    "    running_loss = 0.0\n",
    "    correct = 0\n",
    "    total = 0\n",
    "    \n",
    "    with torch.no_grad():\n",
    "        for images, labels in tqdm(val_loader, unit='batch', desc='\\tEvaluating: '):\n",
    "            images, labels = images.to(device), labels.to(device)\n",
    "            outputs = model(images)\n",
    "            loss = criterion(outputs, labels)\n",
    "            \n",
    "            running_loss += loss.item()\n",
    "            _, predicted = torch.max(outputs.data, -1)\n",
    "            total += labels.size(0)\n",
    "            correct += (predicted == labels).sum().item()\n",
    "    \n",
    "    epoch_loss = running_loss / len(val_loader)\n",
    "    epoch_acc = 100 * correct / total\n",
    "    \n",
    "    return epoch_loss, epoch_acc\n",
    "\n",
    "def train_model(model, train_loader, criterion, optimizer, device, scheduler=None):\n",
    "    model.to(device)\n",
    "    model.train()\n",
    "    running_loss = 0.0\n",
    "    correct = 0\n",
    "    total = 0\n",
    "        \n",
    "    for images, labels in tqdm(train_loader, unit='batch', desc=f'\\tTraining: '):\n",
    "        images, labels = images.to(device), labels.to(device)\n",
    "        \n",
    "        optimizer.zero_grad()\n",
    "        outputs = model(images)\n",
    "        loss = criterion(outputs, labels)\n",
    "        \n",
    "        loss.backward()\n",
    "        torch.nn.utils.clip_grad_norm_(model.parameters(), 1.0)\n",
    "        optimizer.step()\n",
    "        \n",
    "        running_loss += loss.item()\n",
    "        _, predicted = torch.max(outputs.data, -1)\n",
    "        total += labels.size(0)\n",
    "        correct += (predicted == labels).sum().item()\n",
    "    \n",
    "    epoch_loss = running_loss / len(train_loader)\n",
    "    epoch_acc = 100 * correct / total\n",
    "\n",
    "    if scheduler is not None:\n",
    "        scheduler.step()\n",
    "    \n",
    "    return epoch_loss, epoch_acc"
   ]
  },
  {
   "cell_type": "code",
   "execution_count": 12,
   "id": "4f3ab5b4",
   "metadata": {
    "execution": {
     "iopub.execute_input": "2025-04-22T02:29:54.488820Z",
     "iopub.status.busy": "2025-04-22T02:29:54.488586Z",
     "iopub.status.idle": "2025-04-22T02:29:58.277268Z",
     "shell.execute_reply": "2025-04-22T02:29:58.276549Z"
    },
    "papermill": {
     "duration": 3.795336,
     "end_time": "2025-04-22T02:29:58.278847",
     "exception": false,
     "start_time": "2025-04-22T02:29:54.483511",
     "status": "completed"
    },
    "tags": []
   },
   "outputs": [],
   "source": [
    "DEVICE = torch.device('cuda' if torch.cuda.is_available() else 'cpu')\n",
    "\n",
    "n_train_samples, _, _ = load_shape('/kaggle/input/processed-xauusd/classification/train/shape.txt')\n",
    "train_labels = np.memmap(f'/kaggle/input/processed-xauusd/classification/train/labels.dat', dtype=np.int64, mode='r', \n",
    "                              shape=(n_train_samples,))\n",
    "class_weights = compute_class_weight(\n",
    "    'balanced', \n",
    "    classes=np.unique(train_labels), \n",
    "    y=train_labels\n",
    ")\n",
    "criterion = nn.CrossEntropyLoss(weight=torch.tensor(class_weights, dtype=torch.float32).to(DEVICE))\n",
    "\n",
    "optimizer = torch.optim.AdamW(model.parameters(), lr=0.00005)\n",
    "# scheduler = torch.optim.lr_scheduler.StepLR(optimizer, step_size=7, gamma=0.1)"
   ]
  },
  {
   "cell_type": "code",
   "execution_count": 13,
   "id": "89b425b9",
   "metadata": {
    "execution": {
     "iopub.execute_input": "2025-04-22T02:29:58.289308Z",
     "iopub.status.busy": "2025-04-22T02:29:58.288942Z",
     "iopub.status.idle": "2025-04-22T03:48:17.957466Z",
     "shell.execute_reply": "2025-04-22T03:48:17.956394Z"
    },
    "papermill": {
     "duration": 4699.675155,
     "end_time": "2025-04-22T03:48:17.958879",
     "exception": false,
     "start_time": "2025-04-22T02:29:58.283724",
     "status": "completed"
    },
    "tags": []
   },
   "outputs": [
    {
     "name": "stdout",
     "output_type": "stream",
     "text": [
      "Epoch [1/50]\n"
     ]
    },
    {
     "name": "stderr",
     "output_type": "stream",
     "text": [
      "\tTraining: 100%|██████████| 3282/3282 [05:51<00:00,  9.34batch/s]\n",
      "\tEvaluating: 100%|██████████| 1097/1097 [00:52<00:00, 20.85batch/s]\n"
     ]
    },
    {
     "name": "stdout",
     "output_type": "stream",
     "text": [
      "\tTrain Loss: 1.0542, Train Accuracy: 46.82%\n",
      "\tVal Loss: 1.0691, Val Accuracy: 37.68%\n",
      "===================================================\n",
      "Epoch [2/50]\n"
     ]
    },
    {
     "name": "stderr",
     "output_type": "stream",
     "text": [
      "\tTraining: 100%|██████████| 3282/3282 [04:57<00:00, 11.04batch/s]\n",
      "\tEvaluating: 100%|██████████| 1097/1097 [00:33<00:00, 32.42batch/s]\n"
     ]
    },
    {
     "name": "stdout",
     "output_type": "stream",
     "text": [
      "\tTrain Loss: 1.0445, Train Accuracy: 47.81%\n",
      "\tVal Loss: 1.0645, Val Accuracy: 38.95%\n",
      "===================================================\n",
      "Epoch [3/50]\n"
     ]
    },
    {
     "name": "stderr",
     "output_type": "stream",
     "text": [
      "\tTraining: 100%|██████████| 3282/3282 [04:56<00:00, 11.06batch/s]\n",
      "\tEvaluating: 100%|██████████| 1097/1097 [00:33<00:00, 32.45batch/s]\n"
     ]
    },
    {
     "name": "stdout",
     "output_type": "stream",
     "text": [
      "\tTrain Loss: 1.0415, Train Accuracy: 48.01%\n",
      "\tVal Loss: 1.0628, Val Accuracy: 37.92%\n",
      "===================================================\n",
      "Epoch [4/50]\n"
     ]
    },
    {
     "name": "stderr",
     "output_type": "stream",
     "text": [
      "\tTraining: 100%|██████████| 3282/3282 [04:56<00:00, 11.06batch/s]\n",
      "\tEvaluating: 100%|██████████| 1097/1097 [00:33<00:00, 32.53batch/s]\n"
     ]
    },
    {
     "name": "stdout",
     "output_type": "stream",
     "text": [
      "\tTrain Loss: 1.0389, Train Accuracy: 48.24%\n",
      "\tVal Loss: 1.0602, Val Accuracy: 39.15%\n",
      "===================================================\n",
      "Epoch [5/50]\n"
     ]
    },
    {
     "name": "stderr",
     "output_type": "stream",
     "text": [
      "\tTraining: 100%|██████████| 3282/3282 [04:56<00:00, 11.07batch/s]\n",
      "\tEvaluating: 100%|██████████| 1097/1097 [00:33<00:00, 32.42batch/s]\n"
     ]
    },
    {
     "name": "stdout",
     "output_type": "stream",
     "text": [
      "\tTrain Loss: 1.0365, Train Accuracy: 48.14%\n",
      "\tVal Loss: 1.0619, Val Accuracy: 39.64%\n",
      "EarlyStopping counter: 1/10\n",
      "===================================================\n",
      "Epoch [6/50]\n"
     ]
    },
    {
     "name": "stderr",
     "output_type": "stream",
     "text": [
      "\tTraining: 100%|██████████| 3282/3282 [04:56<00:00, 11.07batch/s]\n",
      "\tEvaluating: 100%|██████████| 1097/1097 [00:33<00:00, 32.49batch/s]\n"
     ]
    },
    {
     "name": "stdout",
     "output_type": "stream",
     "text": [
      "\tTrain Loss: 1.0336, Train Accuracy: 48.20%\n",
      "\tVal Loss: 1.0613, Val Accuracy: 40.99%\n",
      "EarlyStopping counter: 2/10\n",
      "===================================================\n",
      "Epoch [7/50]\n"
     ]
    },
    {
     "name": "stderr",
     "output_type": "stream",
     "text": [
      "\tTraining: 100%|██████████| 3282/3282 [04:56<00:00, 11.06batch/s]\n",
      "\tEvaluating: 100%|██████████| 1097/1097 [00:33<00:00, 32.48batch/s]\n"
     ]
    },
    {
     "name": "stdout",
     "output_type": "stream",
     "text": [
      "\tTrain Loss: 1.0297, Train Accuracy: 48.35%\n",
      "\tVal Loss: 1.0686, Val Accuracy: 39.65%\n",
      "EarlyStopping counter: 3/10\n",
      "===================================================\n",
      "Epoch [8/50]\n"
     ]
    },
    {
     "name": "stderr",
     "output_type": "stream",
     "text": [
      "\tTraining: 100%|██████████| 3282/3282 [04:56<00:00, 11.06batch/s]\n",
      "\tEvaluating: 100%|██████████| 1097/1097 [00:33<00:00, 32.43batch/s]\n"
     ]
    },
    {
     "name": "stdout",
     "output_type": "stream",
     "text": [
      "\tTrain Loss: 1.0254, Train Accuracy: 48.23%\n",
      "\tVal Loss: 1.0772, Val Accuracy: 37.09%\n",
      "EarlyStopping counter: 4/10\n",
      "===================================================\n",
      "Epoch [9/50]\n"
     ]
    },
    {
     "name": "stderr",
     "output_type": "stream",
     "text": [
      "\tTraining: 100%|██████████| 3282/3282 [04:56<00:00, 11.07batch/s]\n",
      "\tEvaluating: 100%|██████████| 1097/1097 [00:33<00:00, 32.34batch/s]\n"
     ]
    },
    {
     "name": "stdout",
     "output_type": "stream",
     "text": [
      "\tTrain Loss: 1.0179, Train Accuracy: 48.38%\n",
      "\tVal Loss: 1.0892, Val Accuracy: 35.50%\n",
      "EarlyStopping counter: 5/10\n",
      "===================================================\n",
      "Epoch [10/50]\n"
     ]
    },
    {
     "name": "stderr",
     "output_type": "stream",
     "text": [
      "\tTraining: 100%|██████████| 3282/3282 [04:56<00:00, 11.07batch/s]\n",
      "\tEvaluating: 100%|██████████| 1097/1097 [00:33<00:00, 32.65batch/s]\n"
     ]
    },
    {
     "name": "stdout",
     "output_type": "stream",
     "text": [
      "\tTrain Loss: 1.0101, Train Accuracy: 48.78%\n",
      "\tVal Loss: 1.0989, Val Accuracy: 34.43%\n",
      "EarlyStopping counter: 6/10\n",
      "===================================================\n",
      "Epoch [11/50]\n"
     ]
    },
    {
     "name": "stderr",
     "output_type": "stream",
     "text": [
      "\tTraining: 100%|██████████| 3282/3282 [04:56<00:00, 11.08batch/s]\n",
      "\tEvaluating: 100%|██████████| 1097/1097 [00:33<00:00, 32.57batch/s]\n"
     ]
    },
    {
     "name": "stdout",
     "output_type": "stream",
     "text": [
      "\tTrain Loss: 0.9996, Train Accuracy: 49.70%\n",
      "\tVal Loss: 1.1185, Val Accuracy: 32.79%\n",
      "EarlyStopping counter: 7/10\n",
      "===================================================\n",
      "Epoch [12/50]\n"
     ]
    },
    {
     "name": "stderr",
     "output_type": "stream",
     "text": [
      "\tTraining: 100%|██████████| 3282/3282 [04:57<00:00, 11.05batch/s]\n",
      "\tEvaluating: 100%|██████████| 1097/1097 [00:33<00:00, 32.47batch/s]\n"
     ]
    },
    {
     "name": "stdout",
     "output_type": "stream",
     "text": [
      "\tTrain Loss: 0.9864, Train Accuracy: 50.99%\n",
      "\tVal Loss: 1.1180, Val Accuracy: 35.99%\n",
      "EarlyStopping counter: 8/10\n",
      "===================================================\n",
      "Epoch [13/50]\n"
     ]
    },
    {
     "name": "stderr",
     "output_type": "stream",
     "text": [
      "\tTraining: 100%|██████████| 3282/3282 [04:56<00:00, 11.06batch/s]\n",
      "\tEvaluating: 100%|██████████| 1097/1097 [00:33<00:00, 32.61batch/s]\n"
     ]
    },
    {
     "name": "stdout",
     "output_type": "stream",
     "text": [
      "\tTrain Loss: 0.9703, Train Accuracy: 52.33%\n",
      "\tVal Loss: 1.1410, Val Accuracy: 36.59%\n",
      "EarlyStopping counter: 9/10\n",
      "===================================================\n",
      "Epoch [14/50]\n"
     ]
    },
    {
     "name": "stderr",
     "output_type": "stream",
     "text": [
      "\tTraining: 100%|██████████| 3282/3282 [04:56<00:00, 11.06batch/s]\n",
      "\tEvaluating: 100%|██████████| 1097/1097 [00:33<00:00, 32.67batch/s]"
     ]
    },
    {
     "name": "stdout",
     "output_type": "stream",
     "text": [
      "\tTrain Loss: 0.9511, Train Accuracy: 53.78%\n",
      "\tVal Loss: 1.1406, Val Accuracy: 35.60%\n",
      "EarlyStopping counter: 10/10\n",
      "Early stopping triggered!\n"
     ]
    },
    {
     "name": "stderr",
     "output_type": "stream",
     "text": [
      "\n"
     ]
    }
   ],
   "source": [
    "NUM_EPOCHS = 50\n",
    "PATIENCE = 10\n",
    "MIN_DELTA = 0.0001\n",
    "torch.cuda.empty_cache()\n",
    "\n",
    "model = nn.DataParallel(model)\n",
    "    \n",
    "train_losses = []\n",
    "train_accs = []\n",
    "val_losses = []\n",
    "val_accs = []\n",
    "\n",
    "early_stopping = EarlyStopping(patience=PATIENCE, min_delta=MIN_DELTA)\n",
    "\n",
    "for epoch in range(NUM_EPOCHS):\n",
    "    print(f'Epoch [{epoch + 1}/{NUM_EPOCHS}]')\n",
    "    \n",
    "    train_loss, train_acc = train_model(model, train_loader, criterion, optimizer, DEVICE)\n",
    "    val_loss, val_acc = eval_model(model, val_loader, criterion, DEVICE)\n",
    "    \n",
    "    print(f'\\tTrain Loss: {train_loss:.4f}, Train Accuracy: {train_acc:.2f}%')\n",
    "    print(f'\\tVal Loss: {val_loss:.4f}, Val Accuracy: {val_acc:.2f}%')\n",
    "    train_losses.append(train_loss)\n",
    "    train_accs.append(train_acc)\n",
    "    val_losses.append(val_loss)\n",
    "    val_accs.append(val_acc)\n",
    "    \n",
    "    # Kiểm tra Early Stopping\n",
    "    early_stopping(val_loss)\n",
    "    if early_stopping.early_stop:\n",
    "        print(\"Early stopping triggered!\")\n",
    "        break\n",
    "    print('===================================================')"
   ]
  },
  {
   "cell_type": "code",
   "execution_count": 14,
   "id": "837e2167",
   "metadata": {
    "execution": {
     "iopub.execute_input": "2025-04-22T03:48:20.704369Z",
     "iopub.status.busy": "2025-04-22T03:48:20.703853Z",
     "iopub.status.idle": "2025-04-22T03:48:21.707011Z",
     "shell.execute_reply": "2025-04-22T03:48:21.705989Z"
    },
    "papermill": {
     "duration": 2.355707,
     "end_time": "2025-04-22T03:48:21.708578",
     "exception": false,
     "start_time": "2025-04-22T03:48:19.352871",
     "status": "completed"
    },
    "tags": []
   },
   "outputs": [
    {
     "data": {
      "image/png": "[encoded data removed]",
      "text/plain": [
       "<Figure size 1200x800 with 4 Axes>"
      ]
     },
     "metadata": {},
     "output_type": "display_data"
    }
   ],
   "source": [
    "import matplotlib.pyplot as plt\n",
    "def plot_training_results(train_losses, train_accs, val_losses, val_accs):\n",
    "    \"\"\"\n",
    "    Vẽ biểu đồ kết quả huấn luyện: loss và accuracy cho train và validation.\n",
    "    \n",
    "    Parameters:\n",
    "    - train_losses: List các giá trị loss của train qua các epoch\n",
    "    - train_accs: List các giá trị accuracy của train qua các epoch\n",
    "    - val_losses: List các giá trị loss của validation qua các epoch\n",
    "    - val_accs: List các giá trị accuracy của validation qua các epoch\n",
    "    \"\"\"\n",
    "    epochs = range(1, len(train_losses) + 1)\n",
    "    \n",
    "    # Tạo figure với 2x2 subplot\n",
    "    plt.figure(figsize=(12, 8))\n",
    "    \n",
    "    # Subplot 1: Train Loss\n",
    "    plt.subplot(2, 2, 1)\n",
    "    plt.plot(epochs, train_losses, 'b-', label='Train Loss')\n",
    "    plt.xlabel('Epoch')\n",
    "    plt.ylabel('Loss')\n",
    "    plt.title('Training Loss')\n",
    "    plt.legend()\n",
    "    plt.grid(True)\n",
    "    \n",
    "    # Subplot 2: Train Accuracy\n",
    "    plt.subplot(2, 2, 2)\n",
    "    plt.plot(epochs, train_accs, 'g-', label='Train Accuracy')\n",
    "    plt.xlabel('Epoch')\n",
    "    plt.ylabel('Accuracy (%)')\n",
    "    plt.title('Training Accuracy')\n",
    "    plt.legend()\n",
    "    plt.grid(True)\n",
    "    \n",
    "    # Subplot 3: Validation Loss\n",
    "    plt.subplot(2, 2, 3)\n",
    "    plt.plot(epochs, val_losses, 'r-', label='Validation Loss')\n",
    "    plt.xlabel('Epoch')\n",
    "    plt.ylabel('Loss')\n",
    "    plt.title('Validation Loss')\n",
    "    plt.legend()\n",
    "    plt.grid(True)\n",
    "    \n",
    "    # Subplot 4: Validation Accuracy\n",
    "    plt.subplot(2, 2, 4)\n",
    "    plt.plot(epochs, val_accs, 'm-', label='Validation Accuracy')\n",
    "    plt.xlabel('Epoch')\n",
    "    plt.ylabel('Accuracy (%)')\n",
    "    plt.title('Validation Accuracy')\n",
    "    plt.legend()\n",
    "    plt.grid(True)\n",
    "    \n",
    "    # Điều chỉnh layout và hiển thị\n",
    "    plt.tight_layout()\n",
    "    plt.show()\n",
    "\n",
    "plot_training_results(train_losses, train_accs, val_losses, val_accs)"
   ]
  },
  {
   "cell_type": "code",
   "execution_count": 15,
   "id": "99f9e003",
   "metadata": {
    "execution": {
     "iopub.execute_input": "2025-04-22T03:48:24.483512Z",
     "iopub.status.busy": "2025-04-22T03:48:24.483135Z",
     "iopub.status.idle": "2025-04-22T03:48:24.566666Z",
     "shell.execute_reply": "2025-04-22T03:48:24.565966Z"
    },
    "papermill": {
     "duration": 1.394391,
     "end_time": "2025-04-22T03:48:24.568113",
     "exception": false,
     "start_time": "2025-04-22T03:48:23.173722",
     "status": "completed"
    },
    "tags": []
   },
   "outputs": [],
   "source": [
    "torch.save(model.state_dict(), 'model.pth')"
   ]
  },
  {
   "cell_type": "code",
   "execution_count": 16,
   "id": "c1b7a91a",
   "metadata": {
    "execution": {
     "iopub.execute_input": "2025-04-22T03:48:27.286302Z",
     "iopub.status.busy": "2025-04-22T03:48:27.285998Z",
     "iopub.status.idle": "2025-04-22T03:48:27.291767Z",
     "shell.execute_reply": "2025-04-22T03:48:27.291104Z"
    },
    "papermill": {
     "duration": 1.30273,
     "end_time": "2025-04-22T03:48:27.292931",
     "exception": false,
     "start_time": "2025-04-22T03:48:25.990201",
     "status": "completed"
    },
    "tags": []
   },
   "outputs": [],
   "source": [
    "def test_model(model, test_loader, device='cuda' if torch.cuda.is_available() else 'cpu'):\n",
    "    model.to(device)\n",
    "    model.eval()\n",
    "\n",
    "    all_preds = []\n",
    "    all_labels = []\n",
    "\n",
    "    with torch.no_grad():\n",
    "        for batch_x, batch_y in test_loader:\n",
    "            batch_x = batch_x.to(device)  # [B, seq_len, n_features]\n",
    "            batch_y = batch_y.to(device)\n",
    "\n",
    "            outputs = model(batch_x)  # Expecting [B, num_classes]\n",
    "            preds = torch.argmax(outputs, dim=-1)\n",
    "\n",
    "            all_preds.extend(preds.cpu().numpy())\n",
    "            all_labels.extend(batch_y.cpu().numpy())\n",
    "\n",
    "    target_names = ['BUY', 'SELL', 'HOLD']\n",
    "    cm = confusion_matrix(all_labels, all_preds)\n",
    "    print('Confusion matrix:')\n",
    "    print(pd.DataFrame(cm, columns=target_names, index=target_names))\n",
    "    print(\"Classification Report:\")\n",
    "    print(classification_report(all_labels, all_preds, target_names=target_names, digits=4, zero_division=0))"
   ]
  },
  {
   "cell_type": "code",
   "execution_count": 17,
   "id": "07521fb6",
   "metadata": {
    "execution": {
     "iopub.execute_input": "2025-04-22T03:48:30.057704Z",
     "iopub.status.busy": "2025-04-22T03:48:30.057395Z",
     "iopub.status.idle": "2025-04-22T03:50:10.253421Z",
     "shell.execute_reply": "2025-04-22T03:50:10.252409Z"
    },
    "papermill": {
     "duration": 102.939154,
     "end_time": "2025-04-22T03:50:11.683908",
     "exception": false,
     "start_time": "2025-04-22T03:48:28.744754",
     "status": "completed"
    },
    "tags": []
   },
   "outputs": [
    {
     "name": "stdout",
     "output_type": "stream",
     "text": [
      "Confusion matrix:\n",
      "        BUY  SELL   HOLD\n",
      "BUY   25700  2424   3957\n",
      "SELL  12409  4629   4558\n",
      "HOLD  25286  4125  21933\n",
      "Classification Report:\n",
      "              precision    recall  f1-score   support\n",
      "\n",
      "         BUY     0.4054    0.8011    0.5384     32081\n",
      "        SELL     0.4141    0.2143    0.2825     21596\n",
      "        HOLD     0.7203    0.4272    0.5363     51344\n",
      "\n",
      "    accuracy                         0.4976    105021\n",
      "   macro avg     0.5133    0.4809    0.4524    105021\n",
      "weighted avg     0.5612    0.4976    0.4847    105021\n",
      "\n"
     ]
    }
   ],
   "source": [
    "test_model(model, train_loader, DEVICE)"
   ]
  },
  {
   "cell_type": "code",
   "execution_count": 18,
   "id": "f92fccb4",
   "metadata": {
    "execution": {
     "iopub.execute_input": "2025-04-22T03:50:14.408554Z",
     "iopub.status.busy": "2025-04-22T03:50:14.408249Z",
     "iopub.status.idle": "2025-04-22T03:50:47.960125Z",
     "shell.execute_reply": "2025-04-22T03:50:47.959114Z"
    },
    "papermill": {
     "duration": 36.315974,
     "end_time": "2025-04-22T03:50:49.286075",
     "exception": false,
     "start_time": "2025-04-22T03:50:12.970101",
     "status": "completed"
    },
    "tags": []
   },
   "outputs": [
    {
     "name": "stdout",
     "output_type": "stream",
     "text": [
      "Confusion matrix:\n",
      "       BUY  SELL  HOLD\n",
      "BUY   3667  6562  1219\n",
      "SELL  1684  4935  1034\n",
      "HOLD  2474  9616  3887\n",
      "Classification Report:\n",
      "              precision    recall  f1-score   support\n",
      "\n",
      "         BUY     0.4686    0.3203    0.3805     11448\n",
      "        SELL     0.2337    0.6448    0.3431      7653\n",
      "        HOLD     0.6331    0.2433    0.3515     15977\n",
      "\n",
      "    accuracy                         0.3560     35078\n",
      "   macro avg     0.4451    0.4028    0.3584     35078\n",
      "weighted avg     0.4923    0.3560    0.3591     35078\n",
      "\n"
     ]
    }
   ],
   "source": [
    "test_model(model, val_loader, DEVICE)"
   ]
  },
  {
   "cell_type": "code",
   "execution_count": 19,
   "id": "a9cc3b6a",
   "metadata": {
    "execution": {
     "iopub.execute_input": "2025-04-22T03:50:52.018440Z",
     "iopub.status.busy": "2025-04-22T03:50:52.018025Z",
     "iopub.status.idle": "2025-04-22T03:53:54.548274Z",
     "shell.execute_reply": "2025-04-22T03:53:54.547382Z"
    },
    "papermill": {
     "duration": 185.241229,
     "end_time": "2025-04-22T03:53:55.969637",
     "exception": false,
     "start_time": "2025-04-22T03:50:50.728408",
     "status": "completed"
    },
    "tags": []
   },
   "outputs": [
    {
     "name": "stdout",
     "output_type": "stream",
     "text": [
      "Confusion matrix:\n",
      "        BUY   SELL  HOLD\n",
      "BUY   10006  24736  1873\n",
      "SELL   4899  17948  1600\n",
      "HOLD   7607  38613  5435\n",
      "Classification Report:\n",
      "              precision    recall  f1-score   support\n",
      "\n",
      "         BUY     0.4445    0.2733    0.3385     36615\n",
      "        SELL     0.2208    0.7342    0.3395     24447\n",
      "        HOLD     0.6101    0.1052    0.1795     51655\n",
      "\n",
      "    accuracy                         0.2962    112717\n",
      "   macro avg     0.4251    0.3709    0.2858    112717\n",
      "weighted avg     0.4719    0.2962    0.2658    112717\n",
      "\n"
     ]
    }
   ],
   "source": [
    "test_model(model, test_loader, DEVICE)"
   ]
  },
  {
   "cell_type": "code",
   "execution_count": 20,
   "id": "13b89d16",
   "metadata": {
    "execution": {
     "iopub.execute_input": "2025-04-22T03:53:58.694536Z",
     "iopub.status.busy": "2025-04-22T03:53:58.694043Z",
     "iopub.status.idle": "2025-04-22T03:53:58.698592Z",
     "shell.execute_reply": "2025-04-22T03:53:58.697942Z"
    },
    "papermill": {
     "duration": 1.319608,
     "end_time": "2025-04-22T03:53:58.699777",
     "exception": false,
     "start_time": "2025-04-22T03:53:57.380169",
     "status": "completed"
    },
    "tags": []
   },
   "outputs": [],
   "source": [
    "def get_prediction(model, inputs, device):\n",
    "    # inputs = [B, S, N]\n",
    "    model.to(device)\n",
    "    model.eval()\n",
    "    with torch.no_grad():\n",
    "        inputs = inputs.to(device)\n",
    "        outputs = model(inputs)\n",
    "        preds = torch.argmax(outputs, dim=-1)\n",
    "    return preds.cpu().numpy()"
   ]
  },
  {
   "cell_type": "code",
   "execution_count": 21,
   "id": "a6a57ab2",
   "metadata": {
    "execution": {
     "iopub.execute_input": "2025-04-22T03:54:01.382473Z",
     "iopub.status.busy": "2025-04-22T03:54:01.381926Z",
     "iopub.status.idle": "2025-04-22T03:54:01.437870Z",
     "shell.execute_reply": "2025-04-22T03:54:01.437128Z"
    },
    "papermill": {
     "duration": 1.403257,
     "end_time": "2025-04-22T03:54:01.439043",
     "exception": false,
     "start_time": "2025-04-22T03:54:00.035786",
     "status": "completed"
    },
    "tags": []
   },
   "outputs": [
    {
     "data": {
      "text/plain": [
       "array([2, 2, 2, 2, 2, 2, 2, 2, 1, 1, 1, 2, 2, 2, 2, 2, 2, 2, 1, 1, 1, 1,\n",
       "       1, 1, 1, 2, 1, 1, 1, 0, 1, 1])"
      ]
     },
     "execution_count": 21,
     "metadata": {},
     "output_type": "execute_result"
    }
   ],
   "source": [
    "batch = next(iter(test_loader))\n",
    "inputs, labels = batch[0], batch[1]\n",
    "\n",
    "get_prediction(model, inputs, DEVICE)"
   ]
  },
  {
   "cell_type": "code",
   "execution_count": null,
   "id": "471de223",
   "metadata": {
    "papermill": {
     "duration": 1.283626,
     "end_time": "2025-04-22T03:54:04.134487",
     "exception": false,
     "start_time": "2025-04-22T03:54:02.850861",
     "status": "completed"
    },
    "tags": []
   },
   "outputs": [],
   "source": []
  }
 ],
 "metadata": {
  "kaggle": {
   "accelerator": "nvidiaTeslaT4",
   "dataSources": [
    {
     "datasetId": 7078972,
     "isSourceIdPinned": true,
     "sourceId": 11505227,
     "sourceType": "datasetVersion"
    }
   ],
   "dockerImageVersionId": 30919,
   "isGpuEnabled": true,
   "isInternetEnabled": true,
   "language": "python",
   "sourceType": "notebook"
  },
  "kernelspec": {
   "display_name": "Python 3",
   "language": "python",
   "name": "python3"
  },
  "language_info": {
   "codemirror_mode": {
    "name": "ipython",
    "version": 3
   },
   "file_extension": ".py",
   "mimetype": "text/x-python",
   "name": "python",
   "nbconvert_exporter": "python",
   "pygments_lexer": "ipython3",
   "version": "3.10.12"
  },
  "papermill": {
   "default_parameters": {},
   "duration": 5065.307745,
   "end_time": "2025-04-22T03:54:08.774105",
   "environment_variables": {},
   "exception": null,
   "input_path": "__notebook__.ipynb",
   "output_path": "__notebook__.ipynb",
   "parameters": {},
   "start_time": "2025-04-22T02:29:43.466360",
   "version": "2.6.0"
  }
 },
 "nbformat": 4,
 "nbformat_minor": 5
}
