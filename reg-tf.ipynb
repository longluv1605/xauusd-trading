{
 "cells": [
  {
   "cell_type": "markdown",
   "id": "64a16c60",
   "metadata": {},
   "source": [
    "# 1 - Import requirements"
   ]
  },
  {
   "cell_type": "code",
   "execution_count": 1,
   "id": "3215f98a",
   "metadata": {
    "execution": {
     "iopub.execute_input": "2025-04-17T03:11:27.523355Z",
     "iopub.status.busy": "2025-04-17T03:11:27.523121Z",
     "iopub.status.idle": "2025-04-17T03:11:33.122318Z",
     "shell.execute_reply": "2025-04-17T03:11:33.121783Z",
     "shell.execute_reply.started": "2025-04-17T03:11:27.523328Z"
    },
    "trusted": true
   },
   "outputs": [],
   "source": [
    "import os\n",
    "import pandas as pd\n",
    "import numpy as np\n",
    "from sklearn.metrics import classification_report\n",
    "\n",
    "import torch\n",
    "import torch.nn as nn\n",
    "\n",
    "from torch.utils.data import Dataset, DataLoader, Subset\n",
    "\n",
    "from tqdm import tqdm"
   ]
  },
  {
   "cell_type": "markdown",
   "id": "65be178d",
   "metadata": {},
   "source": [
    "# 2 - Prepare data"
   ]
  },
  {
   "cell_type": "code",
   "execution_count": 2,
   "id": "5e540e20-ab23-474d-9626-aa733e13b49b",
   "metadata": {
    "execution": {
     "iopub.execute_input": "2025-04-17T03:11:33.124246Z",
     "iopub.status.busy": "2025-04-17T03:11:33.123812Z",
     "iopub.status.idle": "2025-04-17T03:11:33.128648Z",
     "shell.execute_reply": "2025-04-17T03:11:33.127921Z",
     "shell.execute_reply.started": "2025-04-17T03:11:33.124218Z"
    },
    "trusted": true
   },
   "outputs": [],
   "source": [
    "label_mapping = {\n",
    "    'BUY': 0,\n",
    "    'SELL': 1,\n",
    "    'HOLD': 2\n",
    "}\n",
    "\n",
    "def map_label(x):\n",
    "    return label_mapping[x] if x in label_mapping else x"
   ]
  },
  {
   "cell_type": "code",
   "execution_count": 3,
   "id": "6cbb91cd",
   "metadata": {
    "execution": {
     "iopub.execute_input": "2025-04-17T03:11:33.129495Z",
     "iopub.status.busy": "2025-04-17T03:11:33.129294Z",
     "iopub.status.idle": "2025-04-17T03:11:33.152090Z",
     "shell.execute_reply": "2025-04-17T03:11:33.151429Z",
     "shell.execute_reply.started": "2025-04-17T03:11:33.129479Z"
    },
    "trusted": true
   },
   "outputs": [],
   "source": [
    "def load_shape(shape_path):\n",
    "    with open(shape_path, 'r') as f:\n",
    "        shape = f.readlines()\n",
    "        n_samples = int(shape[0])\n",
    "        seq_len = int(shape[1])\n",
    "        n_features = int(shape[2])\n",
    "    return n_samples, seq_len, n_features\n",
    "\n",
    "class TradingDataset(Dataset):\n",
    "    def __init__(self, save_path, n_samples, sequence_length, n_features):\n",
    "        self.save_path = save_path\n",
    "        self.n_samples = n_samples\n",
    "        self.sequences = np.memmap(f'{save_path}/sequences.dat', dtype=np.float32, mode='r', \n",
    "                                 shape=(n_samples, sequence_length, n_features))\n",
    "        self.labels = np.memmap(f'{save_path}/labels.dat', dtype=np.int64, mode='r', \n",
    "                              shape=(n_samples,))\n",
    "    \n",
    "    def __len__(self):\n",
    "        return self.n_samples\n",
    "    \n",
    "    def __getitem__(self, idx):\n",
    "        seq = self.sequences[idx].copy()  # Tạo bản sao writable\n",
    "        lbl = self.labels[idx].copy()\n",
    "        return torch.from_numpy(seq).float(), torch.from_numpy(np.array([lbl])).float()[0]\n",
    "\n",
    "def prepare_transformer_input(train_shape_path, val_shape_path, test_shape_path, data_path, batch_size=32):    \n",
    "    n_train_samples, sequence_length, n_features = load_shape(train_shape_path)\n",
    "    n_val_samples, _, _ = load_shape(val_shape_path)\n",
    "    n_test_samples, _, _ = load_shape(test_shape_path)\n",
    "    \n",
    "    train_path = f'{data_path}/train'\n",
    "    val_path = f'{data_path}/val'\n",
    "    test_path = f'{data_path}/test'\n",
    "    \n",
    "    # Tạo datasets\n",
    "    train_dataset = TradingDataset(train_path, n_train_samples, sequence_length, n_features)\n",
    "    val_dataset = TradingDataset(val_path, n_val_samples, sequence_length, n_features)\n",
    "    test_dataset = TradingDataset(test_path, n_test_samples, sequence_length, n_features)\n",
    "    \n",
    "    # Tạo dataloaders\n",
    "    train_loader = DataLoader(train_dataset, batch_size=batch_size, shuffle=False)\n",
    "    val_loader = DataLoader(val_dataset, batch_size=batch_size, shuffle=False)\n",
    "    test_loader = DataLoader(test_dataset, batch_size=batch_size, shuffle=False)\n",
    "    \n",
    "    return train_loader, val_loader, test_loader"
   ]
  },
  {
   "cell_type": "code",
   "execution_count": 5,
   "id": "fd11f2df-64e5-4a69-b2e8-f44d117fee49",
   "metadata": {
    "execution": {
     "iopub.execute_input": "2025-04-17T03:11:33.153054Z",
     "iopub.status.busy": "2025-04-17T03:11:33.152798Z",
     "iopub.status.idle": "2025-04-17T03:11:33.224895Z",
     "shell.execute_reply": "2025-04-17T03:11:33.224432Z",
     "shell.execute_reply.started": "2025-04-17T03:11:33.153032Z"
    },
    "trusted": true
   },
   "outputs": [],
   "source": [
    "train_shape_path = 'data/regression/train/shape.txt'\n",
    "val_shape_path = 'data/regression/val/shape.txt'\n",
    "test_shape_path = 'data/regression/test/shape.txt'\n",
    "\n",
    "\n",
    "train_loader, val_loader, test_loader = prepare_transformer_input(\n",
    "    train_shape_path, val_shape_path, test_shape_path,\n",
    "    data_path='data/regression',\n",
    "    batch_size=64\n",
    ")"
   ]
  },
  {
   "cell_type": "code",
   "execution_count": 6,
   "id": "4cd830e6",
   "metadata": {
    "execution": {
     "iopub.execute_input": "2025-04-17T03:11:33.225649Z",
     "iopub.status.busy": "2025-04-17T03:11:33.225470Z",
     "iopub.status.idle": "2025-04-17T03:11:33.336268Z",
     "shell.execute_reply": "2025-04-17T03:11:33.335573Z",
     "shell.execute_reply.started": "2025-04-17T03:11:33.225634Z"
    },
    "trusted": true
   },
   "outputs": [
    {
     "name": "stdout",
     "output_type": "stream",
     "text": [
      "Batch input shape: torch.Size([64, 128, 27])\n",
      "Batch labels shape: torch.Size([64])\n",
      "\n",
      "Example input shape for Transformer: torch.Size([128, 27])\n",
      "tensor([[-0.7127, -0.7133, -0.7126,  ..., -0.6439,  0.8317,  0.8950],\n",
      "        [-0.7129, -0.7134, -0.7127,  ..., -0.6439,  0.8317,  0.8950],\n",
      "        [-0.7132, -0.7137, -0.7134,  ..., -0.6439,  0.8317,  0.8950],\n",
      "        ...,\n",
      "        [-0.7067, -0.7072, -0.7065,  ..., -1.1719,  0.8317,  0.8950],\n",
      "        [-0.7070, -0.7071, -0.7064,  ..., -1.1719,  0.8317,  0.8950],\n",
      "        [-0.7065, -0.7067, -0.7068,  ..., -1.1719,  0.8317,  0.8950]])\n",
      "Number of batches: 1642\n"
     ]
    }
   ],
   "source": [
    "# Kiểm tra\n",
    "sample_batch = next(iter(train_loader))\n",
    "print(\"Batch input shape:\", sample_batch[0].shape)\n",
    "print(\"Batch labels shape:\", sample_batch[1].shape)\n",
    "print(\"\\nExample input shape for Transformer:\", sample_batch[0][0].shape)\n",
    "print(sample_batch[0][0])\n",
    "print(\"Number of batches:\", len(train_loader))"
   ]
  },
  {
   "cell_type": "markdown",
   "id": "d4d43dc8-a2af-42b7-a6f7-b2a893f5f70d",
   "metadata": {},
   "source": [
    "# 3 - Build model"
   ]
  },
  {
   "cell_type": "code",
   "execution_count": 7,
   "id": "c95237f8-ac3c-47f5-b7da-e3b9fd3ba6b4",
   "metadata": {
    "execution": {
     "iopub.execute_input": "2025-04-17T03:11:33.337102Z",
     "iopub.status.busy": "2025-04-17T03:11:33.336919Z",
     "iopub.status.idle": "2025-04-17T03:11:33.344549Z",
     "shell.execute_reply": "2025-04-17T03:11:33.343965Z",
     "shell.execute_reply.started": "2025-04-17T03:11:33.337086Z"
    },
    "trusted": true
   },
   "outputs": [],
   "source": [
    "from torch.nn import TransformerEncoder, TransformerEncoderLayer\n",
    "class TradingTransformer(nn.Module):\n",
    "    def __init__(self, \n",
    "                 num_features, \n",
    "                 output_dim=3, \n",
    "                 d_model=512,\n",
    "                 nhead=8,\n",
    "                 num_layers=6,\n",
    "                 dropout=0.1):\n",
    "        super().__init__()\n",
    "        \n",
    "        # 1. Feature Projection\n",
    "        self.input_proj = nn.Linear(num_features, d_model)\n",
    "        \n",
    "        # 2. Positional Encoding (Learnable)\n",
    "        self.pos_encoder = LearnablePositionalEncoding(d_model, dropout)\n",
    "        \n",
    "        # 3. Transformer Encoder\n",
    "        encoder_layers = TransformerEncoderLayer(\n",
    "            d_model=d_model,\n",
    "            nhead=nhead,\n",
    "            dim_feedforward=d_model*4,\n",
    "            dropout=dropout,\n",
    "            batch_first=True \n",
    "        )\n",
    "        self.transformer_encoder = TransformerEncoder(encoder_layers, num_layers)\n",
    "        \n",
    "        # 4. Classification Head\n",
    "        self.classifier = nn.Sequential(\n",
    "            nn.Linear(d_model, d_model//2),\n",
    "            nn.ReLU(),\n",
    "            nn.Dropout(dropout),\n",
    "            nn.Linear(d_model//2, output_dim)\n",
    "        )\n",
    "        \n",
    "    #     # 5. Initialize weights\n",
    "    #     self.init_weights()\n",
    "\n",
    "    # def init_weights(self):\n",
    "    #     for p in self.parameters():\n",
    "    #         if p.dim() > 1:\n",
    "    #             nn.init.xavier_uniform_(p)\n",
    "\n",
    "    def forward(self, src):\n",
    "        \"\"\"\n",
    "        Args:\n",
    "            src: Tensor shape [batch_size, seq_len, num_features]\n",
    "        Returns:\n",
    "            output: Tensor shape [batch_size, output_dim]\n",
    "        \"\"\"\n",
    "        # Project input features\n",
    "        x = self.input_proj(src)  # [B, S, D]\n",
    "        \n",
    "        # Add positional encoding\n",
    "        x = self.pos_encoder(x)\n",
    "        \n",
    "        # Transformer processing\n",
    "        memory = self.transformer_encoder(x)  # [B, S, D]\n",
    "        \n",
    "        # Get last time step output\n",
    "        last_output = memory[:, -1, :]  # [B, D]\n",
    "        \n",
    "        # Classification\n",
    "        return self.classifier(last_output)\n",
    "\n",
    "class LearnablePositionalEncoding(nn.Module):\n",
    "    def __init__(self, d_model, dropout=0.1, max_len=5000):\n",
    "        super().__init__()\n",
    "        self.dropout = nn.Dropout(p=dropout)\n",
    "        self.position_emb = nn.Parameter(torch.zeros(max_len, d_model))\n",
    "        nn.init.normal_(self.position_emb, mean=0, std=0.02)\n",
    "\n",
    "    def forward(self, x):\n",
    "        \"\"\"\n",
    "        Args:\n",
    "            x: Tensor shape [B, S, D]\n",
    "        \"\"\"\n",
    "        positions = self.position_emb[:x.size(1), :]  # [S, D]\n",
    "        x = x + positions.unsqueeze(0)  # [B, S, D]\n",
    "        return self.dropout(x)"
   ]
  },
  {
   "cell_type": "code",
   "execution_count": 8,
   "id": "652895ef",
   "metadata": {
    "execution": {
     "iopub.execute_input": "2025-04-17T03:11:33.346814Z",
     "iopub.status.busy": "2025-04-17T03:11:33.346583Z",
     "iopub.status.idle": "2025-04-17T03:11:37.437871Z",
     "shell.execute_reply": "2025-04-17T03:11:37.437239Z",
     "shell.execute_reply.started": "2025-04-17T03:11:33.346798Z"
    },
    "trusted": true
   },
   "outputs": [
    {
     "data": {
      "text/plain": [
       "(torch.Size([64]), torch.Size([64]))"
      ]
     },
     "execution_count": 8,
     "metadata": {},
     "output_type": "execute_result"
    }
   ],
   "source": [
    "N_FEATURES = 27\n",
    "model = TradingTransformer(num_features=N_FEATURES, output_dim=1)\n",
    "\n",
    "model(sample_batch[0])[:, -1].shape, sample_batch[1].shape"
   ]
  },
  {
   "cell_type": "code",
   "execution_count": 9,
   "id": "d45736e4",
   "metadata": {
    "execution": {
     "iopub.execute_input": "2025-04-17T03:11:37.438795Z",
     "iopub.status.busy": "2025-04-17T03:11:37.438562Z",
     "iopub.status.idle": "2025-04-17T03:11:37.914962Z",
     "shell.execute_reply": "2025-04-17T03:11:37.914323Z",
     "shell.execute_reply.started": "2025-04-17T03:11:37.438770Z"
    },
    "trusted": true
   },
   "outputs": [
    {
     "name": "stdout",
     "output_type": "stream",
     "text": [
      "===============================================================================================\n",
      "Layer (type:depth-idx)                        Output Shape              Param #\n",
      "===============================================================================================\n",
      "TradingTransformer                            [64, 1]                   --\n",
      "├─Linear: 1-1                                 [64, 128, 512]            14,336\n",
      "├─LearnablePositionalEncoding: 1-2            [64, 128, 512]            2,560,000\n",
      "│    └─Dropout: 2-1                           [64, 128, 512]            --\n",
      "├─TransformerEncoder: 1-3                     [64, 128, 512]            --\n",
      "│    └─ModuleList: 2-2                        --                        --\n",
      "│    │    └─TransformerEncoderLayer: 3-1      [64, 128, 512]            3,152,384\n",
      "│    │    └─TransformerEncoderLayer: 3-2      [64, 128, 512]            3,152,384\n",
      "│    │    └─TransformerEncoderLayer: 3-3      [64, 128, 512]            3,152,384\n",
      "│    │    └─TransformerEncoderLayer: 3-4      [64, 128, 512]            3,152,384\n",
      "│    │    └─TransformerEncoderLayer: 3-5      [64, 128, 512]            3,152,384\n",
      "│    │    └─TransformerEncoderLayer: 3-6      [64, 128, 512]            3,152,384\n",
      "├─Sequential: 1-4                             [64, 1]                   --\n",
      "│    └─Linear: 2-3                            [64, 256]                 131,328\n",
      "│    └─ReLU: 2-4                              [64, 256]                 --\n",
      "│    └─Dropout: 2-5                           [64, 256]                 --\n",
      "│    └─Linear: 2-6                            [64, 1]                   257\n",
      "===============================================================================================\n",
      "Total params: 21,620,225\n",
      "Trainable params: 21,620,225\n",
      "Non-trainable params: 0\n",
      "Total mult-adds (Units.MEGABYTES): 9.34\n",
      "===============================================================================================\n",
      "Input size (MB): 0.88\n",
      "Forward/backward pass size (MB): 33.69\n",
      "Params size (MB): 0.58\n",
      "Estimated Total Size (MB): 35.15\n",
      "===============================================================================================\n"
     ]
    },
    {
     "name": "stderr",
     "output_type": "stream",
     "text": [
      "c:\\Users\\longt\\AppData\\Local\\Programs\\Python\\Python312\\Lib\\site-packages\\torch\\nn\\modules\\transformer.py:720: UserWarning: 1Torch was not compiled with flash attention. (Triggered internally at C:\\actions-runner\\_work\\pytorch\\pytorch\\builder\\windows\\pytorch\\aten\\src\\ATen\\native\\transformers\\cuda\\sdp_utils.cpp:555.)\n",
      "  return torch._transformer_encoder_layer_fwd(\n"
     ]
    }
   ],
   "source": [
    "from torchinfo import summary\n",
    "print(summary(model, (64, 128, 27)))"
   ]
  },
  {
   "cell_type": "markdown",
   "id": "f51a2649-7985-4b80-991c-0b8223d43884",
   "metadata": {},
   "source": [
    "# 4 - Train and Evaluate model"
   ]
  },
  {
   "cell_type": "code",
   "execution_count": 10,
   "id": "c9760660",
   "metadata": {
    "execution": {
     "iopub.execute_input": "2025-04-17T03:11:37.915919Z",
     "iopub.status.busy": "2025-04-17T03:11:37.915689Z",
     "iopub.status.idle": "2025-04-17T03:11:37.923778Z",
     "shell.execute_reply": "2025-04-17T03:11:37.923140Z",
     "shell.execute_reply.started": "2025-04-17T03:11:37.915895Z"
    },
    "trusted": true
   },
   "outputs": [],
   "source": [
    "class EarlyStopping:\n",
    "    def __init__(self, patience=3, min_delta=0.001):\n",
    "        \"\"\"\n",
    "        patience: Số epoch chờ mà không cải thiện trước khi dừng\n",
    "        min_delta: Độ cải thiện tối thiểu để coi là tốt hơn\n",
    "        \"\"\"\n",
    "        self.patience = patience\n",
    "        self.min_delta = min_delta\n",
    "        self.counter = 0\n",
    "        self.best_loss = None\n",
    "        self.early_stop = False\n",
    "\n",
    "    def __call__(self, val_loss):\n",
    "        if self.best_loss is None:\n",
    "            self.best_loss = val_loss\n",
    "        elif val_loss > self.best_loss - self.min_delta:\n",
    "            self.counter += 1\n",
    "            print(f'EarlyStopping counter: {self.counter}/{self.patience}')\n",
    "            if self.counter >= self.patience:\n",
    "                self.early_stop = True\n",
    "        else:\n",
    "            self.best_loss = val_loss\n",
    "            self.counter = 0\n",
    "            \n",
    "def eval_model(model, val_loader, criterion, device):\n",
    "    model.to(device)\n",
    "    model.eval()\n",
    "    running_loss = 0.0\n",
    "    \n",
    "    with torch.no_grad():\n",
    "        for images, labels in tqdm(val_loader, unit='batch', desc='\\tEvaluating: '):\n",
    "            images, labels = images.to(device), labels.to(device)\n",
    "            outputs = model(images)[:, -1]\n",
    "            loss = criterion(outputs, labels)\n",
    "            \n",
    "            running_loss += loss.item()\n",
    "    \n",
    "    epoch_loss = running_loss / len(val_loader)\n",
    "    \n",
    "    return epoch_loss\n",
    "\n",
    "def train_model(model, train_loader, criterion, optimizer, scheduler, device):\n",
    "    model.to(device)\n",
    "    model.train()\n",
    "    running_loss = 0.0\n",
    "        \n",
    "    for images, labels in tqdm(train_loader, unit='batch', desc=f'\\tTraining: '):\n",
    "        images, labels = images.to(device), labels.to(device)\n",
    "        \n",
    "        optimizer.zero_grad()\n",
    "        outputs = model(images)[:, -1]\n",
    "        loss = criterion(outputs, labels)\n",
    "        \n",
    "        loss.backward()\n",
    "        optimizer.step()\n",
    "        \n",
    "        running_loss += loss.item()\n",
    "    \n",
    "    epoch_loss = running_loss / len(train_loader)\n",
    "    \n",
    "    scheduler.step()\n",
    "    \n",
    "    return epoch_loss"
   ]
  },
  {
   "cell_type": "code",
   "execution_count": null,
   "id": "8adff6f0",
   "metadata": {
    "execution": {
     "iopub.execute_input": "2025-04-17T03:11:37.924794Z",
     "iopub.status.busy": "2025-04-17T03:11:37.924581Z",
     "iopub.status.idle": "2025-04-17T03:11:40.162817Z",
     "shell.execute_reply": "2025-04-17T03:11:40.162249Z",
     "shell.execute_reply.started": "2025-04-17T03:11:37.924780Z"
    },
    "trusted": true
   },
   "outputs": [],
   "source": [
    "criterion = nn.MSELoss()\n",
    "optimizer = torch.optim.Adam(model.parameters(), lr=0.0001)\n",
    "# scheduler = torch.optim.lr_scheduler.StepLR(optimizer, step_size=7, gamma=0.1)"
   ]
  },
  {
   "cell_type": "code",
   "execution_count": 11,
   "id": "5423930c",
   "metadata": {
    "execution": {
     "iopub.execute_input": "2025-04-17T03:11:40.163873Z",
     "iopub.status.busy": "2025-04-17T03:11:40.163466Z",
     "iopub.status.idle": "2025-04-17T03:34:55.771056Z",
     "shell.execute_reply": "2025-04-17T03:34:55.770458Z",
     "shell.execute_reply.started": "2025-04-17T03:11:40.163849Z"
    },
    "trusted": true
   },
   "outputs": [
    {
     "name": "stdout",
     "output_type": "stream",
     "text": [
      "Epoch [1/20]\n"
     ]
    },
    {
     "name": "stderr",
     "output_type": "stream",
     "text": [
      "\tTraining: 100%|██████████| 1642/1642 [05:28<00:00,  5.00batch/s]\n",
      "\tEvaluating: 100%|██████████| 549/549 [00:36<00:00, 14.98batch/s]\n"
     ]
    },
    {
     "name": "stdout",
     "output_type": "stream",
     "text": [
      "\tTrain Loss: 0.0560\n",
      "\tVal Loss: 0.0353\n",
      "===================================================\n",
      "Epoch [2/20]\n"
     ]
    },
    {
     "name": "stderr",
     "output_type": "stream",
     "text": [
      "\tTraining: 100%|██████████| 1642/1642 [05:11<00:00,  5.26batch/s]\n",
      "\tEvaluating: 100%|██████████| 549/549 [00:31<00:00, 17.44batch/s]\n"
     ]
    },
    {
     "name": "stdout",
     "output_type": "stream",
     "text": [
      "\tTrain Loss: 0.0614\n",
      "\tVal Loss: 0.0361\n",
      "EarlyStopping counter: 1/3\n",
      "===================================================\n",
      "Epoch [3/20]\n"
     ]
    },
    {
     "name": "stderr",
     "output_type": "stream",
     "text": [
      "\tTraining: 100%|██████████| 1642/1642 [05:12<00:00,  5.26batch/s]\n",
      "\tEvaluating: 100%|██████████| 549/549 [00:31<00:00, 17.44batch/s]\n"
     ]
    },
    {
     "name": "stdout",
     "output_type": "stream",
     "text": [
      "\tTrain Loss: 0.0632\n",
      "\tVal Loss: 0.0351\n",
      "EarlyStopping counter: 2/3\n",
      "===================================================\n",
      "Epoch [4/20]\n"
     ]
    },
    {
     "name": "stderr",
     "output_type": "stream",
     "text": [
      "\tTraining: 100%|██████████| 1642/1642 [05:11<00:00,  5.27batch/s]\n",
      "\tEvaluating: 100%|██████████| 549/549 [00:31<00:00, 17.43batch/s]"
     ]
    },
    {
     "name": "stdout",
     "output_type": "stream",
     "text": [
      "\tTrain Loss: 0.0656\n",
      "\tVal Loss: 0.0361\n",
      "EarlyStopping counter: 3/3\n",
      "Early stopping triggered!\n"
     ]
    },
    {
     "name": "stderr",
     "output_type": "stream",
     "text": [
      "\n"
     ]
    }
   ],
   "source": [
    "NUM_EPOCHS = 20\n",
    "PATIENCE = 3\n",
    "MIN_DELTA = 0.0005\n",
    "DEVICE = torch.device('cuda' if torch.cuda.is_available() else 'cpu')\n",
    "torch.cuda.empty_cache()\n",
    "    \n",
    "train_losses = []\n",
    "val_losses = []\n",
    "\n",
    "early_stopping = EarlyStopping(patience=PATIENCE, min_delta=MIN_DELTA)\n",
    "\n",
    "for epoch in range(NUM_EPOCHS):\n",
    "    print(f'Epoch [{epoch + 1}/{NUM_EPOCHS}]')\n",
    "    \n",
    "    train_loss = train_model(model, train_loader, criterion, optimizer, scheduler, DEVICE)\n",
    "    val_loss = eval_model(model, val_loader, criterion, DEVICE)\n",
    "    \n",
    "    print(f'\\tTrain Loss: {train_loss:.4f}')\n",
    "    print(f'\\tVal Loss: {val_loss:.4f}')\n",
    "    train_losses.append(train_loss)\n",
    "    val_losses.append(val_loss)\n",
    "    \n",
    "    # Kiểm tra Early Stopping\n",
    "    early_stopping(val_loss)\n",
    "    if early_stopping.early_stop:\n",
    "        print(\"Early stopping triggered!\")\n",
    "        break\n",
    "    print('===================================================')"
   ]
  },
  {
   "cell_type": "code",
   "execution_count": 16,
   "id": "829afcde",
   "metadata": {
    "execution": {
     "iopub.execute_input": "2025-04-17T03:36:17.262107Z",
     "iopub.status.busy": "2025-04-17T03:36:17.261659Z",
     "iopub.status.idle": "2025-04-17T03:36:17.700549Z",
     "shell.execute_reply": "2025-04-17T03:36:17.699922Z",
     "shell.execute_reply.started": "2025-04-17T03:36:17.262085Z"
    },
    "trusted": true
   },
   "outputs": [
    {
     "ename": "NameError",
     "evalue": "name 'train_losses' is not defined",
     "output_type": "error",
     "traceback": [
      "\u001b[31m---------------------------------------------------------------------------\u001b[39m",
      "\u001b[31mNameError\u001b[39m                                 Traceback (most recent call last)",
      "\u001b[36mCell\u001b[39m\u001b[36m \u001b[39m\u001b[32mIn[16]\u001b[39m\u001b[32m, line 39\u001b[39m\n\u001b[32m     36\u001b[39m     plt.tight_layout()\n\u001b[32m     37\u001b[39m     plt.show()\n\u001b[32m---> \u001b[39m\u001b[32m39\u001b[39m plot_training_results(\u001b[43mtrain_losses\u001b[49m, val_losses)\n",
      "\u001b[31mNameError\u001b[39m: name 'train_losses' is not defined"
     ]
    }
   ],
   "source": [
    "import matplotlib.pyplot as plt\n",
    "def plot_training_results(train_losses, val_losses):\n",
    "    \"\"\"\n",
    "    Vẽ biểu đồ kết quả huấn luyện: loss và accuracy cho train và validation.\n",
    "    \n",
    "    Parameters:\n",
    "    - train_losses: List các giá trị loss của train qua các epoch\n",
    "    - train_accs: List các giá trị accuracy của train qua các epoch\n",
    "    - val_losses: List các giá trị loss của validation qua các epoch\n",
    "    - val_accs: List các giá trị accuracy của validation qua các epoch\n",
    "    \"\"\"\n",
    "    epochs = range(1, len(train_losses) + 1)\n",
    "    \n",
    "    # Tạo figure với 2x2 subplot\n",
    "    plt.figure(figsize=(6, 6))\n",
    "    \n",
    "    # Subplot 1: Train Loss\n",
    "    plt.subplot(1, 2, 1)\n",
    "    plt.plot(epochs, train_losses, 'b-', label='Train Loss')\n",
    "    plt.xlabel('Epoch')\n",
    "    plt.ylabel('Loss')\n",
    "    plt.title('Training Loss')\n",
    "    plt.legend()\n",
    "    plt.grid(True)\n",
    "    \n",
    "    # Subplot 3: Validation Loss\n",
    "    plt.subplot(1, 2, 2)\n",
    "    plt.plot(epochs, val_losses, 'r-', label='Validation Loss')\n",
    "    plt.xlabel('Epoch')\n",
    "    plt.ylabel('Loss')\n",
    "    plt.title('Validation Loss')\n",
    "    plt.legend()\n",
    "    plt.grid(True)\n",
    "    \n",
    "    # Điều chỉnh layout và hiển thị\n",
    "    plt.tight_layout()\n",
    "    plt.show()\n",
    "\n",
    "plot_training_results(train_losses, val_losses)"
   ]
  },
  {
   "cell_type": "code",
   "execution_count": 21,
   "id": "7ac6557f",
   "metadata": {
    "execution": {
     "iopub.execute_input": "2025-04-17T03:36:20.616221Z",
     "iopub.status.busy": "2025-04-17T03:36:20.615645Z",
     "iopub.status.idle": "2025-04-17T03:36:20.816432Z",
     "shell.execute_reply": "2025-04-17T03:36:20.815659Z",
     "shell.execute_reply.started": "2025-04-17T03:36:20.616198Z"
    },
    "trusted": true
   },
   "outputs": [],
   "source": [
    "torch.save(model.state_dict(), 'model.pth')"
   ]
  },
  {
   "cell_type": "code",
   "execution_count": 13,
   "id": "64977eca-8267-47fc-bd15-da9fc2399a92",
   "metadata": {
    "execution": {
     "iopub.execute_input": "2025-04-17T03:36:29.362595Z",
     "iopub.status.busy": "2025-04-17T03:36:29.362316Z",
     "iopub.status.idle": "2025-04-17T03:36:29.375842Z",
     "shell.execute_reply": "2025-04-17T03:36:29.375157Z",
     "shell.execute_reply.started": "2025-04-17T03:36:29.362577Z"
    },
    "trusted": true
   },
   "outputs": [
    {
     "data": {
      "text/plain": [
       "<All keys matched successfully>"
      ]
     },
     "execution_count": 13,
     "metadata": {},
     "output_type": "execute_result"
    }
   ],
   "source": [
    "import pickle\n",
    "scaler = pickle.load(open('data/regression_scaler.pkl', 'rb'))\n",
    "\n",
    "DEVICE = torch.device('cuda' if torch.cuda.is_available() else 'cpu')\n",
    "model = TradingTransformer(num_features=N_FEATURES, output_dim=1)\n",
    "model.load_state_dict(torch.load('save/models/reg-rf.pth', weights_only=True))"
   ]
  },
  {
   "cell_type": "code",
   "execution_count": 17,
   "id": "a4c00022-b206-4e78-a66c-7cc765a9df91",
   "metadata": {
    "execution": {
     "iopub.execute_input": "2025-04-17T04:10:58.391513Z",
     "iopub.status.busy": "2025-04-17T04:10:58.390820Z",
     "iopub.status.idle": "2025-04-17T04:10:58.398619Z",
     "shell.execute_reply": "2025-04-17T04:10:58.397937Z",
     "shell.execute_reply.started": "2025-04-17T04:10:58.391491Z"
    },
    "trusted": true
   },
   "outputs": [],
   "source": [
    "def test_model(model, test_loader, device='cuda' if torch.cuda.is_available() else 'cpu'):\n",
    "    model.to(device)\n",
    "    model.eval()\n",
    "\n",
    "    all_preds = []\n",
    "    all_labels = []\n",
    "\n",
    "    i = 0\n",
    "    with torch.no_grad():\n",
    "        for batch_x, batch_y in test_loader:\n",
    "            batch_x = batch_x.to(device)  # [B, seq_len, n_features]\n",
    "            batch_y = batch_y.to(device)\n",
    "\n",
    "            outputs = model(batch_x)  # Expecting [B, output_dim]\n",
    "\n",
    "            features = batch_x[:, -1]\n",
    "\n",
    "            outputs = torch.cat((features, outputs), dim=-1)\n",
    "            batch_y = torch.cat((features, batch_y.unsqueeze(-1)), dim=-1)\n",
    "            \n",
    "            outputs = scaler.inverse_transform(outputs.cpu().numpy())\n",
    "            batch_y = scaler.inverse_transform(batch_y.cpu().numpy())\n",
    "\n",
    "            all_preds.extend(outputs[:, -1])\n",
    "            all_labels.extend(batch_y[:, -1])\n",
    "            i += 1\n",
    "            if i == 100:\n",
    "                break\n",
    "    print('---------------------')\n",
    "    xaxis = np.arange(len(all_preds))\n",
    "    plt.figure(figsize=(8, 10))\n",
    "    # Subplot 1: Train Loss\n",
    "    plt.plot(xaxis, all_preds, 'b-', label='Prediction')\n",
    "    plt.xlabel('')\n",
    "    plt.ylabel('Scaled price')\n",
    "    plt.title('Prediction')\n",
    "    plt.legend()\n",
    "    plt.grid(True)\n",
    "    \n",
    "    # Subplot 3: Validation Loss\n",
    "    plt.plot(xaxis, all_labels, 'r-', label='Groundtruth')\n",
    "    plt.xlabel('')\n",
    "    plt.ylabel('Scaled price')\n",
    "    plt.title('Prediction')\n",
    "    plt.legend()\n",
    "    plt.grid(True)"
   ]
  },
  {
   "cell_type": "code",
   "execution_count": 18,
   "id": "72707918-5b2b-475e-870d-20facf485d28",
   "metadata": {
    "execution": {
     "iopub.execute_input": "2025-04-17T04:10:59.127138Z",
     "iopub.status.busy": "2025-04-17T04:10:59.126641Z",
     "iopub.status.idle": "2025-04-17T04:10:59.377556Z",
     "shell.execute_reply": "2025-04-17T04:10:59.376756Z",
     "shell.execute_reply.started": "2025-04-17T04:10:59.127117Z"
    },
    "trusted": true
   },
   "outputs": [
    {
     "name": "stdout",
     "output_type": "stream",
     "text": [
      "---------------------\n"
     ]
    },
    {
     "data": {
      "image/png": "[encoded data removed]",
      "text/plain": [
       "<Figure size 800x1000 with 1 Axes>"
      ]
     },
     "metadata": {},
     "output_type": "display_data"
    }
   ],
   "source": [
    "test_model(model, train_loader, DEVICE)"
   ]
  },
  {
   "cell_type": "code",
   "execution_count": 52,
   "id": "3e8f69e6-0280-4e85-a630-0123a92807c3",
   "metadata": {
    "execution": {
     "iopub.execute_input": "2025-04-17T03:59:44.168245Z",
     "iopub.status.busy": "2025-04-17T03:59:44.167489Z",
     "iopub.status.idle": "2025-04-17T03:59:50.106121Z",
     "shell.execute_reply": "2025-04-17T03:59:50.105253Z",
     "shell.execute_reply.started": "2025-04-17T03:59:44.168222Z"
    },
    "trusted": true
   },
   "outputs": [
    {
     "name": "stdout",
     "output_type": "stream",
     "text": [
      "---------------------\n"
     ]
    },
    {
     "data": {
      "image/png": "[encoded data removed]",
      "text/plain": [
       "<Figure size 800x1000 with 1 Axes>"
      ]
     },
     "metadata": {},
     "output_type": "display_data"
    }
   ],
   "source": [
    "test_model(model, val_loader, DEVICE)"
   ]
  },
  {
   "cell_type": "code",
   "execution_count": 53,
   "id": "b7304e54-da55-4d87-8442-fd7277fbd3ee",
   "metadata": {
    "execution": {
     "iopub.execute_input": "2025-04-17T03:59:50.107917Z",
     "iopub.status.busy": "2025-04-17T03:59:50.107298Z",
     "iopub.status.idle": "2025-04-17T03:59:56.035717Z",
     "shell.execute_reply": "2025-04-17T03:59:56.035134Z",
     "shell.execute_reply.started": "2025-04-17T03:59:50.107897Z"
    },
    "trusted": true
   },
   "outputs": [
    {
     "name": "stdout",
     "output_type": "stream",
     "text": [
      "---------------------\n"
     ]
    },
    {
     "data": {
      "image/png": "[encoded data removed]",
      "text/plain": [
       "<Figure size 800x1000 with 1 Axes>"
      ]
     },
     "metadata": {},
     "output_type": "display_data"
    }
   ],
   "source": [
    "test_model(model, test_loader, DEVICE)"
   ]
  },
  {
   "cell_type": "code",
   "execution_count": 18,
   "id": "d5294e71-05dc-4645-bc83-16f924b60b39",
   "metadata": {
    "execution": {
     "iopub.execute_input": "2025-04-17T03:35:15.267514Z",
     "iopub.status.busy": "2025-04-17T03:35:15.267269Z",
     "iopub.status.idle": "2025-04-17T03:35:15.271672Z",
     "shell.execute_reply": "2025-04-17T03:35:15.270984Z",
     "shell.execute_reply.started": "2025-04-17T03:35:15.267498Z"
    },
    "trusted": true
   },
   "outputs": [],
   "source": [
    "def get_prediction(model, inputs, device):\n",
    "    # inputs = [B, S, N]\n",
    "    model.to(device)\n",
    "    model.eval()\n",
    "    with torch.no_grad():\n",
    "        inputs = inputs.to(device)\n",
    "        outputs = model(inputs)\n",
    "        preds = torch.argmax(outputs, dim=-1)\n",
    "    return preds.cpu().numpy()"
   ]
  },
  {
   "cell_type": "code",
   "execution_count": 19,
   "id": "d9d79f9e-021a-44f6-af02-b8dd96dfe311",
   "metadata": {
    "execution": {
     "iopub.execute_input": "2025-04-17T03:35:15.272508Z",
     "iopub.status.busy": "2025-04-17T03:35:15.272277Z",
     "iopub.status.idle": "2025-04-17T03:35:15.347800Z",
     "shell.execute_reply": "2025-04-17T03:35:15.347255Z",
     "shell.execute_reply.started": "2025-04-17T03:35:15.272492Z"
    },
    "trusted": true
   },
   "outputs": [
    {
     "data": {
      "text/plain": [
       "array([0, 0, 0, 0, 0, 0, 0, 0, 0, 0, 0, 0, 0, 0, 0, 0, 0, 0, 0, 0, 0, 0,\n",
       "       0, 0, 0, 0, 0, 0, 0, 0, 0, 0, 0, 0, 0, 0, 0, 0, 0, 0, 0, 0, 0, 0,\n",
       "       0, 0, 0, 0, 0, 0, 0, 0, 0, 0, 0, 0, 0, 0, 0, 0, 0, 0, 0, 0])"
      ]
     },
     "execution_count": 19,
     "metadata": {},
     "output_type": "execute_result"
    }
   ],
   "source": [
    "batch = next(iter(test_loader))\n",
    "inputs, labels = batch[0], batch[1]\n",
    "\n",
    "get_prediction(model, inputs, DEVICE)"
   ]
  },
  {
   "cell_type": "code",
   "execution_count": null,
   "id": "79d98d9f-1913-4077-b286-24e5f441f7cc",
   "metadata": {
    "trusted": true
   },
   "outputs": [],
   "source": []
  }
 ],
 "metadata": {
  "kaggle": {
   "accelerator": "gpu",
   "dataSources": [
    {
     "datasetId": 7078972,
     "sourceId": 11438853,
     "sourceType": "datasetVersion"
    }
   ],
   "dockerImageVersionId": 31011,
   "isGpuEnabled": true,
   "isInternetEnabled": true,
   "language": "python",
   "sourceType": "notebook"
  },
  "kernelspec": {
   "display_name": "Python 3",
   "language": "python",
   "name": "python3"
  },
  "language_info": {
   "codemirror_mode": {
    "name": "ipython",
    "version": 3
   },
   "file_extension": ".py",
   "mimetype": "text/x-python",
   "name": "python",
   "nbconvert_exporter": "python",
   "pygments_lexer": "ipython3",
   "version": "3.12.4"
  }
 },
 "nbformat": 4,
 "nbformat_minor": 5
}
