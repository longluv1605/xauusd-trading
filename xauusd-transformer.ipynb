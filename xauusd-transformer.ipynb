{
 "cells": [
  {
   "cell_type": "markdown",
   "id": "64a16c60",
   "metadata": {},
   "source": [
    "# 1 - Import requirements"
   ]
  },
  {
   "cell_type": "code",
   "execution_count": 1,
   "id": "3215f98a",
   "metadata": {
    "execution": {
     "iopub.execute_input": "2025-04-06T15:49:22.550173Z",
     "iopub.status.busy": "2025-04-06T15:49:22.549784Z",
     "iopub.status.idle": "2025-04-06T15:49:26.899296Z",
     "shell.execute_reply": "2025-04-06T15:49:26.898256Z",
     "shell.execute_reply.started": "2025-04-06T15:49:22.550106Z"
    },
    "trusted": true
   },
   "outputs": [],
   "source": [
    "import os\n",
    "import pandas as pd\n",
    "import numpy as np\n",
    "from sklearn.metrics import classification_report\n",
    "\n",
    "import torch\n",
    "import torch.nn as nn\n",
    "from torch.utils.data import Dataset, DataLoader, Subset\n",
    "\n",
    "from tqdm import tqdm"
   ]
  },
  {
   "cell_type": "markdown",
   "id": "65be178d",
   "metadata": {},
   "source": [
    "# 2 - Prepare data"
   ]
  },
  {
   "cell_type": "code",
   "execution_count": 2,
   "id": "5e540e20-ab23-474d-9626-aa733e13b49b",
   "metadata": {
    "execution": {
     "iopub.execute_input": "2025-04-06T15:49:36.395369Z",
     "iopub.status.busy": "2025-04-06T15:49:36.395044Z",
     "iopub.status.idle": "2025-04-06T15:49:38.330351Z",
     "shell.execute_reply": "2025-04-06T15:49:38.329291Z",
     "shell.execute_reply.started": "2025-04-06T15:49:36.395330Z"
    },
    "trusted": true
   },
   "outputs": [],
   "source": [
    "label_mapping = {\n",
    "    'BUY': 0,\n",
    "    'SELL': 1,\n",
    "    'HOLD': 2\n",
    "}\n",
    "\n",
    "def map_label(x):\n",
    "    return label_mapping[x] if x in label_mapping else x"
   ]
  },
  {
   "cell_type": "code",
   "execution_count": 18,
   "id": "6cbb91cd",
   "metadata": {
    "execution": {
     "execution_failed": "2025-04-06T16:06:18.186Z"
    },
    "trusted": true
   },
   "outputs": [],
   "source": [
    "def load_shape(shape_path):\n",
    "    with open(shape_path, 'r') as f:\n",
    "        shape = f.readlines()\n",
    "        n_samples = int(shape[0])\n",
    "        seq_len = int(shape[1])\n",
    "        n_features = int(shape[2])\n",
    "    return n_samples, seq_len, n_features\n",
    "\n",
    "class TradingDataset(Dataset):\n",
    "    def __init__(self, save_path, n_samples, sequence_length, n_features):\n",
    "        self.save_path = save_path\n",
    "        self.n_samples = n_samples\n",
    "        self.sequences = np.memmap(f'{save_path}/sequences.dat', dtype=np.float32, mode='r', \n",
    "                                 shape=(n_samples, sequence_length, n_features))\n",
    "        self.labels = np.memmap(f'{save_path}/labels.dat', dtype=np.int64, mode='r', \n",
    "                              shape=(n_samples,))\n",
    "    \n",
    "    def __len__(self):\n",
    "        return self.n_samples\n",
    "    \n",
    "    def __getitem__(self, idx):\n",
    "        seq = self.sequences[idx].copy()  # Tạo bản sao writable\n",
    "        lbl = self.labels[idx].copy()\n",
    "        return torch.from_numpy(seq).float(), torch.from_numpy(np.array([lbl])).long()[0]\n",
    "\n",
    "def prepare_transformer_input(train_shape_path, val_shape_path, test_shape_path, data_path, batch_size=32):    \n",
    "    n_train_samples, sequence_length, n_features = load_shape(train_shape_path)\n",
    "    n_val_samples, _, _ = load_shape(val_shape_path)\n",
    "    n_test_samples, _, _ = load_shape(test_shape_path)\n",
    "    \n",
    "    train_path = f'{data_path}/train'\n",
    "    val_path = f'{data_path}/val'\n",
    "    test_path = f'{data_path}/test'\n",
    "    \n",
    "    # Tạo datasets\n",
    "    train_dataset = Subset(TradingDataset(train_path, n_train_samples, sequence_length, n_features), \n",
    "                           range(n_train_samples - 400000, n_train_samples))\n",
    "    val_dataset = Subset(TradingDataset(val_path, n_val_samples, sequence_length, n_features), \n",
    "                           range(n_val_samples - 50000, n_val_samples))\n",
    "    test_dataset = Subset(TradingDataset(test_path, n_test_samples, sequence_length, n_features), \n",
    "                           range(n_test_samples - 10000, n_test_samples))\n",
    "    \n",
    "    # Tạo dataloaders\n",
    "    train_loader = DataLoader(train_dataset, batch_size=batch_size, shuffle=False)\n",
    "    val_loader = DataLoader(val_dataset, batch_size=batch_size, shuffle=False)\n",
    "    test_loader = DataLoader(test_dataset, batch_size=batch_size, shuffle=False)\n",
    "    \n",
    "    return train_loader, val_loader, test_loader"
   ]
  },
  {
   "cell_type": "code",
   "execution_count": 19,
   "id": "fd11f2df-64e5-4a69-b2e8-f44d117fee49",
   "metadata": {
    "execution": {
     "execution_failed": "2025-04-06T16:06:18.186Z"
    },
    "trusted": true
   },
   "outputs": [],
   "source": [
    "train_shape_path = 'data/train/train_shape.txt'\n",
    "val_shape_path = 'data/val/val_shape.txt'\n",
    "test_shape_path = 'data/test/test_shape.txt'\n",
    "\n",
    "\n",
    "train_loader, val_loader, test_loader = prepare_transformer_input(\n",
    "    train_shape_path, val_shape_path, test_shape_path,\n",
    "    data_path='data',\n",
    "    batch_size=64\n",
    ")"
   ]
  },
  {
   "cell_type": "code",
   "execution_count": 20,
   "id": "4cd830e6",
   "metadata": {},
   "outputs": [
    {
     "name": "stdout",
     "output_type": "stream",
     "text": [
      "Batch input shape: torch.Size([64, 60, 24])\n",
      "Batch labels shape: torch.Size([64])\n",
      "\n",
      "Example input shape for Transformer: torch.Size([60, 24])\n",
      "tensor([[ 1.4655e+03,  1.4655e+03,  1.4647e+03,  ..., -1.0000e+00,\n",
      "         -4.3388e-01, -9.0097e-01],\n",
      "        [ 1.4647e+03,  1.4649e+03,  1.4633e+03,  ..., -1.0000e+00,\n",
      "         -4.3388e-01, -9.0097e-01],\n",
      "        [ 1.4636e+03,  1.4638e+03,  1.4630e+03,  ..., -1.0000e+00,\n",
      "         -4.3388e-01, -9.0097e-01],\n",
      "        ...,\n",
      "        [ 1.4620e+03,  1.4622e+03,  1.4618e+03,  ..., -9.6593e-01,\n",
      "         -4.3388e-01, -9.0097e-01],\n",
      "        [ 1.4622e+03,  1.4624e+03,  1.4615e+03,  ..., -9.6593e-01,\n",
      "         -4.3388e-01, -9.0097e-01],\n",
      "        [ 1.4615e+03,  1.4615e+03,  1.4606e+03,  ..., -9.6593e-01,\n",
      "         -4.3388e-01, -9.0097e-01]])\n",
      "Number of batches: 6250\n"
     ]
    }
   ],
   "source": [
    "# Kiểm tra\n",
    "sample_batch = next(iter(train_loader))\n",
    "print(\"Batch input shape:\", sample_batch[0].shape)\n",
    "print(\"Batch labels shape:\", sample_batch[1].shape)\n",
    "print(\"\\nExample input shape for Transformer:\", sample_batch[0][0].shape)\n",
    "print(sample_batch[0][0])\n",
    "print(\"Number of batches:\", len(train_loader))"
   ]
  },
  {
   "cell_type": "code",
   "execution_count": 29,
   "id": "c95237f8-ac3c-47f5-b7da-e3b9fd3ba6b4",
   "metadata": {
    "execution": {
     "execution_failed": "2025-04-06T16:06:18.186Z"
    },
    "trusted": true
   },
   "outputs": [],
   "source": [
    "from torch.nn import TransformerEncoder, TransformerEncoderLayer\n",
    "class TradingTransformer(nn.Module):\n",
    "    def __init__(self, \n",
    "                 num_features, \n",
    "                 num_classes=3, \n",
    "                 d_model=512,\n",
    "                 nhead=8,\n",
    "                 num_layers=6,\n",
    "                 dropout=0.1):\n",
    "        super().__init__()\n",
    "        \n",
    "        # 1. Feature Projection\n",
    "        self.input_proj = nn.Linear(num_features, d_model)\n",
    "        \n",
    "        # 2. Positional Encoding (Learnable)\n",
    "        self.pos_encoder = LearnablePositionalEncoding(d_model, dropout)\n",
    "        \n",
    "        # 3. Transformer Encoder\n",
    "        encoder_layers = TransformerEncoderLayer(\n",
    "            d_model=d_model,\n",
    "            nhead=nhead,\n",
    "            dim_feedforward=d_model*4,\n",
    "            dropout=dropout,\n",
    "            batch_first=True \n",
    "        )\n",
    "        self.transformer_encoder = TransformerEncoder(encoder_layers, num_layers)\n",
    "        \n",
    "        # 4. Classification Head\n",
    "        self.classifier = nn.Sequential(\n",
    "            nn.Linear(d_model, d_model//2),\n",
    "            nn.ReLU(),\n",
    "            nn.Dropout(dropout),\n",
    "            nn.Linear(d_model//2, num_classes)\n",
    "        )\n",
    "        \n",
    "        # 5. Initialize weights\n",
    "        self.init_weights()\n",
    "\n",
    "    def init_weights(self):\n",
    "        for p in self.parameters():\n",
    "            if p.dim() > 1:\n",
    "                nn.init.xavier_uniform_(p)\n",
    "\n",
    "    def forward(self, src):\n",
    "        \"\"\"\n",
    "        Args:\n",
    "            src: Tensor shape [batch_size, seq_len, num_features]\n",
    "        Returns:\n",
    "            output: Tensor shape [batch_size, num_classes]\n",
    "        \"\"\"\n",
    "        # Project input features\n",
    "        x = self.input_proj(src)  # [B, S, D]\n",
    "        \n",
    "        # Add positional encoding\n",
    "        x = self.pos_encoder(x)\n",
    "        \n",
    "        # Transformer processing\n",
    "        memory = self.transformer_encoder(x)  # [B, S, D]\n",
    "        \n",
    "        # Get last time step output\n",
    "        last_output = memory[:, -1, :]  # [B, D]\n",
    "        \n",
    "        # Classification\n",
    "        return self.classifier(last_output)\n",
    "\n",
    "\n",
    "class LearnablePositionalEncoding(nn.Module):\n",
    "    def __init__(self, d_model, dropout=0.1, max_len=5000):\n",
    "        super().__init__()\n",
    "        self.dropout = nn.Dropout(p=dropout)\n",
    "        self.position_emb = nn.Parameter(torch.zeros(max_len, d_model))\n",
    "        nn.init.normal_(self.position_emb, mean=0, std=0.02)\n",
    "\n",
    "    def forward(self, x):\n",
    "        \"\"\"\n",
    "        Args:\n",
    "            x: Tensor shape [B, S, D]\n",
    "        \"\"\"\n",
    "        positions = self.position_emb[:x.size(1), :]  # [S, D]\n",
    "        x = x + positions.unsqueeze(0)  # [B, S, D]\n",
    "        return self.dropout(x)"
   ]
  },
  {
   "cell_type": "code",
   "execution_count": 30,
   "id": "652895ef",
   "metadata": {},
   "outputs": [
    {
     "data": {
      "text/plain": [
       "(torch.Size([64, 3]), torch.Size([64]))"
      ]
     },
     "execution_count": 30,
     "metadata": {},
     "output_type": "execute_result"
    }
   ],
   "source": [
    "N_FEATURES = 24\n",
    "model = TradingTransformer(num_features=N_FEATURES)\n",
    "\n",
    "model(sample_batch[0]).shape, sample_batch[1].shape"
   ]
  },
  {
   "cell_type": "code",
   "execution_count": 31,
   "id": "d45736e4",
   "metadata": {},
   "outputs": [
    {
     "name": "stdout",
     "output_type": "stream",
     "text": [
      "===============================================================================================\n",
      "Layer (type:depth-idx)                        Output Shape              Param #\n",
      "===============================================================================================\n",
      "TradingTransformer                            [64, 3]                   --\n",
      "├─Linear: 1-1                                 [64, 60, 512]             12,800\n",
      "├─LearnablePositionalEncoding: 1-2            [64, 60, 512]             2,560,000\n",
      "│    └─Dropout: 2-1                           [64, 60, 512]             --\n",
      "├─TransformerEncoder: 1-3                     [64, 60, 512]             --\n",
      "│    └─ModuleList: 2-2                        --                        --\n",
      "│    │    └─TransformerEncoderLayer: 3-1      [64, 60, 512]             3,152,384\n",
      "│    │    └─TransformerEncoderLayer: 3-2      [64, 60, 512]             3,152,384\n",
      "│    │    └─TransformerEncoderLayer: 3-3      [64, 60, 512]             3,152,384\n",
      "│    │    └─TransformerEncoderLayer: 3-4      [64, 60, 512]             3,152,384\n",
      "│    │    └─TransformerEncoderLayer: 3-5      [64, 60, 512]             3,152,384\n",
      "│    │    └─TransformerEncoderLayer: 3-6      [64, 60, 512]             3,152,384\n",
      "├─Sequential: 1-4                             [64, 3]                   --\n",
      "│    └─Linear: 2-3                            [64, 256]                 131,328\n",
      "│    └─ReLU: 2-4                              [64, 256]                 --\n",
      "│    └─Dropout: 2-5                           [64, 256]                 --\n",
      "│    └─Linear: 2-6                            [64, 3]                   771\n",
      "===============================================================================================\n",
      "Total params: 21,619,203\n",
      "Trainable params: 21,619,203\n",
      "Non-trainable params: 0\n",
      "Total mult-adds (Units.MEGABYTES): 9.27\n",
      "===============================================================================================\n",
      "Input size (MB): 0.37\n",
      "Forward/backward pass size (MB): 15.86\n",
      "Params size (MB): 0.58\n",
      "Estimated Total Size (MB): 16.81\n",
      "===============================================================================================\n"
     ]
    }
   ],
   "source": [
    "from torchinfo import summary\n",
    "print(summary(model, (64, 60, 24)))"
   ]
  },
  {
   "cell_type": "code",
   "execution_count": 32,
   "id": "c9760660",
   "metadata": {},
   "outputs": [],
   "source": [
    "class EarlyStopping:\n",
    "    def __init__(self, patience=3, min_delta=0.001):\n",
    "        \"\"\"\n",
    "        patience: Số epoch chờ mà không cải thiện trước khi dừng\n",
    "        min_delta: Độ cải thiện tối thiểu để coi là tốt hơn\n",
    "        \"\"\"\n",
    "        self.patience = patience\n",
    "        self.min_delta = min_delta\n",
    "        self.counter = 0\n",
    "        self.best_loss = None\n",
    "        self.early_stop = False\n",
    "\n",
    "    def __call__(self, val_loss):\n",
    "        if self.best_loss is None:\n",
    "            self.best_loss = val_loss\n",
    "        elif val_loss > self.best_loss - self.min_delta:\n",
    "            self.counter += 1\n",
    "            print(f'EarlyStopping counter: {self.counter}/{self.patience}')\n",
    "            if self.counter >= self.patience:\n",
    "                self.early_stop = True\n",
    "        else:\n",
    "            self.best_loss = val_loss\n",
    "            self.counter = 0\n",
    "            \n",
    "def eval_model(model, val_loader, criterion, device):\n",
    "    model.to(device)\n",
    "    model.eval()\n",
    "    running_loss = 0.0\n",
    "    correct = 0\n",
    "    total = 0\n",
    "    \n",
    "    with torch.no_grad():\n",
    "        for images, labels in tqdm(val_loader, unit='batch', desc='\\tEvaluating: '):\n",
    "            images, labels = images.to(device), labels.to(device)\n",
    "            outputs = model(images)\n",
    "            loss = criterion(outputs, labels)\n",
    "            \n",
    "            running_loss += loss.item()\n",
    "            _, predicted = torch.max(outputs.data, 1)\n",
    "            total += labels.size(0)\n",
    "            correct += (predicted == labels).sum().item()\n",
    "    \n",
    "    epoch_loss = running_loss / len(val_loader)\n",
    "    epoch_acc = 100 * correct / total\n",
    "    \n",
    "    return epoch_loss, epoch_acc\n",
    "\n",
    "def train_model(model, train_loader, criterion, optimizer, scheduler, device):\n",
    "    model.to(device)\n",
    "    model.train()\n",
    "    running_loss = 0.0\n",
    "    correct = 0\n",
    "    total = 0\n",
    "        \n",
    "    for images, labels in tqdm(train_loader, unit='batch', desc=f'\\tTraining: '):\n",
    "        images, labels = images.to(device), labels.to(device)\n",
    "        \n",
    "        optimizer.zero_grad()\n",
    "        outputs = model(images)\n",
    "        loss = criterion(outputs, labels)\n",
    "        \n",
    "        loss.backward()\n",
    "        optimizer.step()\n",
    "        \n",
    "        running_loss += loss.item()\n",
    "        _, predicted = torch.max(outputs.data, 1)\n",
    "        total += labels.size(0)\n",
    "        correct += (predicted == labels).sum().item()\n",
    "    \n",
    "    epoch_loss = running_loss / len(train_loader)\n",
    "    epoch_acc = 100 * correct / total\n",
    "    \n",
    "    scheduler.step()\n",
    "    \n",
    "    return epoch_loss, epoch_acc"
   ]
  },
  {
   "cell_type": "code",
   "execution_count": 33,
   "id": "8adff6f0",
   "metadata": {},
   "outputs": [],
   "source": [
    "criterion = nn.CrossEntropyLoss()\n",
    "optimizer = torch.optim.Adam(model.parameters(), lr=0.0001)\n",
    "scheduler = torch.optim.lr_scheduler.StepLR(optimizer, step_size=7, gamma=0.1)"
   ]
  },
  {
   "cell_type": "code",
   "execution_count": 34,
   "id": "5423930c",
   "metadata": {},
   "outputs": [
    {
     "name": "stdout",
     "output_type": "stream",
     "text": [
      "Epoch [1/20]\n"
     ]
    },
    {
     "name": "stderr",
     "output_type": "stream",
     "text": [
      "\tTraining:  46%|████▌     | 2884/6250 [07:36<08:53,  6.31batch/s]\n"
     ]
    },
    {
     "ename": "KeyboardInterrupt",
     "evalue": "",
     "output_type": "error",
     "traceback": [
      "\u001b[31m---------------------------------------------------------------------------\u001b[39m",
      "\u001b[31mKeyboardInterrupt\u001b[39m                         Traceback (most recent call last)",
      "\u001b[36mCell\u001b[39m\u001b[36m \u001b[39m\u001b[32mIn[34]\u001b[39m\u001b[32m, line 17\u001b[39m\n\u001b[32m     14\u001b[39m \u001b[38;5;28;01mfor\u001b[39;00m epoch \u001b[38;5;129;01min\u001b[39;00m \u001b[38;5;28mrange\u001b[39m(NUM_EPOCHS):\n\u001b[32m     15\u001b[39m     \u001b[38;5;28mprint\u001b[39m(\u001b[33mf\u001b[39m\u001b[33m'\u001b[39m\u001b[33mEpoch [\u001b[39m\u001b[38;5;132;01m{\u001b[39;00mepoch\u001b[38;5;250m \u001b[39m+\u001b[38;5;250m \u001b[39m\u001b[32m1\u001b[39m\u001b[38;5;132;01m}\u001b[39;00m\u001b[33m/\u001b[39m\u001b[38;5;132;01m{\u001b[39;00mNUM_EPOCHS\u001b[38;5;132;01m}\u001b[39;00m\u001b[33m]\u001b[39m\u001b[33m'\u001b[39m)\n\u001b[32m---> \u001b[39m\u001b[32m17\u001b[39m     train_loss, train_acc = \u001b[43mtrain_model\u001b[49m\u001b[43m(\u001b[49m\u001b[43mmodel\u001b[49m\u001b[43m,\u001b[49m\u001b[43m \u001b[49m\u001b[43mtrain_loader\u001b[49m\u001b[43m,\u001b[49m\u001b[43m \u001b[49m\u001b[43mcriterion\u001b[49m\u001b[43m,\u001b[49m\u001b[43m \u001b[49m\u001b[43moptimizer\u001b[49m\u001b[43m,\u001b[49m\u001b[43m \u001b[49m\u001b[43mscheduler\u001b[49m\u001b[43m,\u001b[49m\u001b[43m \u001b[49m\u001b[43mDEVICE\u001b[49m\u001b[43m)\u001b[49m\n\u001b[32m     18\u001b[39m     val_loss, val_acc = eval_model(model, val_loader, criterion, DEVICE)\n\u001b[32m     20\u001b[39m     \u001b[38;5;28mprint\u001b[39m(\u001b[33mf\u001b[39m\u001b[33m'\u001b[39m\u001b[38;5;130;01m\\t\u001b[39;00m\u001b[33mTrain Loss: \u001b[39m\u001b[38;5;132;01m{\u001b[39;00mtrain_loss\u001b[38;5;132;01m:\u001b[39;00m\u001b[33m.4f\u001b[39m\u001b[38;5;132;01m}\u001b[39;00m\u001b[33m, Train Accuracy: \u001b[39m\u001b[38;5;132;01m{\u001b[39;00mtrain_acc\u001b[38;5;132;01m:\u001b[39;00m\u001b[33m.2f\u001b[39m\u001b[38;5;132;01m}\u001b[39;00m\u001b[33m%\u001b[39m\u001b[33m'\u001b[39m)\n",
      "\u001b[36mCell\u001b[39m\u001b[36m \u001b[39m\u001b[32mIn[32]\u001b[39m\u001b[32m, line 65\u001b[39m, in \u001b[36mtrain_model\u001b[39m\u001b[34m(model, train_loader, criterion, optimizer, scheduler, device)\u001b[39m\n\u001b[32m     62\u001b[39m loss.backward()\n\u001b[32m     63\u001b[39m optimizer.step()\n\u001b[32m---> \u001b[39m\u001b[32m65\u001b[39m running_loss += \u001b[43mloss\u001b[49m\u001b[43m.\u001b[49m\u001b[43mitem\u001b[49m\u001b[43m(\u001b[49m\u001b[43m)\u001b[49m\n\u001b[32m     66\u001b[39m _, predicted = torch.max(outputs.data, \u001b[32m1\u001b[39m)\n\u001b[32m     67\u001b[39m total += labels.size(\u001b[32m0\u001b[39m)\n",
      "\u001b[31mKeyboardInterrupt\u001b[39m: "
     ]
    }
   ],
   "source": [
    "NUM_EPOCHS = 20\n",
    "PATIENCE = 3\n",
    "MIN_DELTA = 0.001\n",
    "DEVICE = torch.device('cuda' if torch.cuda.is_available() else 'cpu')\n",
    "torch.cuda.empty_cache()\n",
    "    \n",
    "train_losses = []\n",
    "train_accs = []\n",
    "val_losses = []\n",
    "val_accs = []\n",
    "\n",
    "early_stopping = EarlyStopping(patience=PATIENCE, min_delta=MIN_DELTA)\n",
    "\n",
    "for epoch in range(NUM_EPOCHS):\n",
    "    print(f'Epoch [{epoch + 1}/{NUM_EPOCHS}]')\n",
    "    \n",
    "    train_loss, train_acc = train_model(model, train_loader, criterion, optimizer, scheduler, DEVICE)\n",
    "    val_loss, val_acc = eval_model(model, val_loader, criterion, DEVICE)\n",
    "    \n",
    "    print(f'\\tTrain Loss: {train_loss:.4f}, Train Accuracy: {train_acc:.2f}%')\n",
    "    print(f'\\tVal Loss: {val_loss:.4f}, Train Accuracy: {val_acc:.2f}%')\n",
    "    train_losses.append(train_loss)\n",
    "    train_accs.append(train_acc)\n",
    "    val_losses.append(val_loss)\n",
    "    val_accs.append(val_acc)\n",
    "    \n",
    "    # Kiểm tra Early Stopping\n",
    "    early_stopping(val_loss)\n",
    "    if early_stopping.early_stop:\n",
    "        print(\"Early stopping triggered!\")\n",
    "        break\n",
    "    print('===================================================')"
   ]
  },
  {
   "cell_type": "code",
   "execution_count": 12,
   "id": "829afcde",
   "metadata": {},
   "outputs": [
    {
     "data": {
      "image/png": "[encoded data removed]",
      "text/plain": [
       "<Figure size 1200x800 with 4 Axes>"
      ]
     },
     "metadata": {},
     "output_type": "display_data"
    }
   ],
   "source": [
    "import matplotlib.pyplot as plt\n",
    "def plot_training_results(train_losses, train_accs, val_losses, val_accs):\n",
    "    \"\"\"\n",
    "    Vẽ biểu đồ kết quả huấn luyện: loss và accuracy cho train và validation.\n",
    "    \n",
    "    Parameters:\n",
    "    - train_losses: List các giá trị loss của train qua các epoch\n",
    "    - train_accs: List các giá trị accuracy của train qua các epoch\n",
    "    - val_losses: List các giá trị loss của validation qua các epoch\n",
    "    - val_accs: List các giá trị accuracy của validation qua các epoch\n",
    "    \"\"\"\n",
    "    epochs = range(1, len(train_losses) + 1)\n",
    "    \n",
    "    # Tạo figure với 2x2 subplot\n",
    "    plt.figure(figsize=(12, 8))\n",
    "    \n",
    "    # Subplot 1: Train Loss\n",
    "    plt.subplot(2, 2, 1)\n",
    "    plt.plot(epochs, train_losses, 'b-', label='Train Loss')\n",
    "    plt.xlabel('Epoch')\n",
    "    plt.ylabel('Loss')\n",
    "    plt.title('Training Loss')\n",
    "    plt.legend()\n",
    "    plt.grid(True)\n",
    "    \n",
    "    # Subplot 2: Train Accuracy\n",
    "    plt.subplot(2, 2, 2)\n",
    "    plt.plot(epochs, train_accs, 'g-', label='Train Accuracy')\n",
    "    plt.xlabel('Epoch')\n",
    "    plt.ylabel('Accuracy (%)')\n",
    "    plt.title('Training Accuracy')\n",
    "    plt.legend()\n",
    "    plt.grid(True)\n",
    "    \n",
    "    # Subplot 3: Validation Loss\n",
    "    plt.subplot(2, 2, 3)\n",
    "    plt.plot(epochs, val_losses, 'r-', label='Validation Loss')\n",
    "    plt.xlabel('Epoch')\n",
    "    plt.ylabel('Loss')\n",
    "    plt.title('Validation Loss')\n",
    "    plt.legend()\n",
    "    plt.grid(True)\n",
    "    \n",
    "    # Subplot 4: Validation Accuracy\n",
    "    plt.subplot(2, 2, 4)\n",
    "    plt.plot(epochs, val_accs, 'm-', label='Validation Accuracy')\n",
    "    plt.xlabel('Epoch')\n",
    "    plt.ylabel('Accuracy (%)')\n",
    "    plt.title('Validation Accuracy')\n",
    "    plt.legend()\n",
    "    plt.grid(True)\n",
    "    \n",
    "    # Điều chỉnh layout và hiển thị\n",
    "    plt.tight_layout()\n",
    "    plt.show()\n",
    "\n",
    "plot_training_results(train_losses, train_accs, val_losses, val_accs)"
   ]
  },
  {
   "cell_type": "code",
   "execution_count": 13,
   "id": "7ac6557f",
   "metadata": {},
   "outputs": [],
   "source": [
    "model_path = 'save/models'\n",
    "torch.save(model.state_dict(), f'{model_path}/simple_transformer.pth')"
   ]
  },
  {
   "cell_type": "code",
   "execution_count": 14,
   "id": "1703ed10",
   "metadata": {},
   "outputs": [],
   "source": [
    "def test_model(model, test_loader, device='cuda' if torch.cuda.is_available() else 'cpu'):\n",
    "    model.to(device)\n",
    "    model.eval()\n",
    "\n",
    "    all_preds = []\n",
    "    all_labels = []\n",
    "\n",
    "    with torch.no_grad():\n",
    "        for batch_x, batch_y in test_loader:\n",
    "            batch_x = batch_x.to(device)  # [B, seq_len, n_features]\n",
    "            batch_y = batch_y.to(device)\n",
    "\n",
    "            outputs = model(batch_x)  # Expecting [B, num_classes]\n",
    "            preds = torch.argmax(outputs, dim=1)\n",
    "\n",
    "            all_preds.extend(preds.cpu().numpy())\n",
    "            all_labels.extend(batch_y.cpu().numpy())\n",
    "\n",
    "    target_names = ['BUY', 'SELL', 'HOLD']\n",
    "    print(\"Classification Report:\")\n",
    "    print(classification_report(all_labels, all_preds, target_names=target_names, digits=4, zero_division=0))"
   ]
  },
  {
   "cell_type": "code",
   "execution_count": 15,
   "id": "07981475",
   "metadata": {},
   "outputs": [
    {
     "name": "stdout",
     "output_type": "stream",
     "text": [
      "Classification Report:\n",
      "              precision    recall  f1-score   support\n",
      "\n",
      "         BUY     0.0000    0.0000    0.0000     37884\n",
      "        SELL     0.0000    0.0000    0.0000     23096\n",
      "        HOLD     0.3902    1.0000    0.5614     39020\n",
      "\n",
      "    accuracy                         0.3902    100000\n",
      "   macro avg     0.1301    0.3333    0.1871    100000\n",
      "weighted avg     0.1523    0.3902    0.2190    100000\n",
      "\n"
     ]
    }
   ],
   "source": [
    "test_model(model, train_loader, DEVICE)"
   ]
  },
  {
   "cell_type": "code",
   "execution_count": 16,
   "id": "6c787c4c",
   "metadata": {},
   "outputs": [
    {
     "name": "stdout",
     "output_type": "stream",
     "text": [
      "Classification Report:\n",
      "              precision    recall  f1-score   support\n",
      "\n",
      "         BUY     0.0000    0.0000    0.0000      2406\n",
      "        SELL     0.0000    0.0000    0.0000      1683\n",
      "        HOLD     0.5911    1.0000    0.7430      5911\n",
      "\n",
      "    accuracy                         0.5911     10000\n",
      "   macro avg     0.1970    0.3333    0.2477     10000\n",
      "weighted avg     0.3494    0.5911    0.4392     10000\n",
      "\n"
     ]
    }
   ],
   "source": [
    "test_model(model, val_loader, DEVICE)"
   ]
  },
  {
   "cell_type": "code",
   "execution_count": 17,
   "id": "39a96c97",
   "metadata": {},
   "outputs": [
    {
     "name": "stdout",
     "output_type": "stream",
     "text": [
      "Classification Report:\n",
      "              precision    recall  f1-score   support\n",
      "\n",
      "         BUY     0.0000    0.0000    0.0000       362\n",
      "        SELL     0.0000    0.0000    0.0000       256\n",
      "        HOLD     0.3820    1.0000    0.5528       382\n",
      "\n",
      "    accuracy                         0.3820      1000\n",
      "   macro avg     0.1273    0.3333    0.1843      1000\n",
      "weighted avg     0.1459    0.3820    0.2112      1000\n",
      "\n"
     ]
    }
   ],
   "source": [
    "test_model(model, test_loader, DEVICE)"
   ]
  }
 ],
 "metadata": {
  "kaggle": {
   "accelerator": "gpu",
   "dataSources": [
    {
     "datasetId": 7055460,
     "sourceId": 11294529,
     "sourceType": "datasetVersion"
    }
   ],
   "dockerImageVersionId": 30919,
   "isGpuEnabled": true,
   "isInternetEnabled": true,
   "language": "python",
   "sourceType": "notebook"
  },
  "kernelspec": {
   "display_name": "Python 3",
   "language": "python",
   "name": "python3"
  },
  "language_info": {
   "codemirror_mode": {
    "name": "ipython",
    "version": 3
   },
   "file_extension": ".py",
   "mimetype": "text/x-python",
   "name": "python",
   "nbconvert_exporter": "python",
   "pygments_lexer": "ipython3",
   "version": "3.12.4"
  }
 },
 "nbformat": 4,
 "nbformat_minor": 5
}
